{
 "cells": [
  {
   "cell_type": "code",
   "execution_count": null,
   "id": "54483d09-2989-4454-bee3-e8f178c2ac47",
   "metadata": {},
   "outputs": [],
   "source": [
    "using ITensors"
   ]
  },
  {
   "cell_type": "code",
   "execution_count": 172,
   "id": "bec1858c-fe33-4620-9d3e-3ade92749e8e",
   "metadata": {},
   "outputs": [],
   "source": [
    "ITensors.op(::OpName\"z\",::SiteType\"Qubit\") = [1, 0, 0, -1]"
   ]
  },
  {
   "cell_type": "code",
   "execution_count": 173,
   "id": "bdc45bd5-d823-4616-8fd9-d7b2a64d5d87",
   "metadata": {},
   "outputs": [
    {
     "data": {
      "text/plain": [
       "MPO\n",
       "[1] ((dim=2|id=911|\"Link,l=1\"), (dim=2|id=957|\"Qubit,Site,n=1\")', (dim=2|id=957|\"Qubit,Site,n=1\"))\n",
       "[2] ((dim=2|id=911|\"Link,l=1\"), (dim=2|id=27|\"Link,l=2\"), (dim=2|id=904|\"Qubit,Site,n=2\")', (dim=2|id=904|\"Qubit,Site,n=2\"))\n",
       "[3] ((dim=2|id=27|\"Link,l=2\"), (dim=2|id=996|\"Qubit,Site,n=3\")', (dim=2|id=996|\"Qubit,Site,n=3\"))\n"
      ]
     },
     "execution_count": 173,
     "metadata": {},
     "output_type": "execute_result"
    }
   ],
   "source": [
    "sites = siteinds(\"Qubit\", 3; conserve_qns=false)\n",
    "os = OpSum()\n",
    "os+= \"z\", 1\n",
    "H = MPO(os, sites)"
   ]
  },
  {
   "cell_type": "code",
   "execution_count": 174,
   "id": "9645b41f-fcfa-4f16-9248-fdfe2e2cec7e",
   "metadata": {},
   "outputs": [
    {
     "data": {
      "text/plain": [
       "mpo_to_matrix (generic function with 1 method)"
      ]
     },
     "execution_count": 174,
     "metadata": {},
     "output_type": "execute_result"
    }
   ],
   "source": [
    "function mpo_to_matrix(H::MPO)\n",
    "    # Convert MPO to ITensor\n",
    "    T = copy(H[1])\n",
    "    for n = 2:length(H)\n",
    "        T *= H[n]\n",
    "    end\n",
    "\n",
    "    all_inds = inds(T)\n",
    "\n",
    "    row_inds = all_inds[1:3]\n",
    "    col_inds = all_inds[4:6]\n",
    "\n",
    "    row_combiner = combiner(row_inds...)\n",
    "    col_combiner = combiner(col_inds...)\n",
    "\n",
    "    T_matrix = row_combiner * T * col_combiner\n",
    "\n",
    "    return T_matrix\n",
    "end"
   ]
  },
  {
   "cell_type": "code",
   "execution_count": 175,
   "id": "f8c75fba-1218-4776-9eb2-12f499962800",
   "metadata": {},
   "outputs": [
    {
     "name": "stdout",
     "output_type": "stream",
     "text": [
      "mpo_to_matrix(H) = ITensor ord=2\n",
      "Dim 1: (dim=8|id=119|\"CMB,Link\")\n",
      "Dim 2: (dim=8|id=205|\"CMB,Link\")\n",
      "NDTensors.Dense{Float64, Vector{Float64}}\n",
      " 8×8\n",
      "  1.0   0.0  0.0  0.0  0.0  0.0   1.0   0.0\n",
      "  0.0   0.0  0.0  0.0  0.0  0.0   0.0   0.0\n",
      "  0.0   0.0  0.0  0.0  0.0  0.0   0.0   0.0\n",
      " -1.0   0.0  0.0  0.0  0.0  0.0  -1.0   0.0\n",
      "  0.0   1.0  0.0  0.0  0.0  0.0   0.0   1.0\n",
      "  0.0   0.0  0.0  0.0  0.0  0.0   0.0   0.0\n",
      "  0.0   0.0  0.0  0.0  0.0  0.0   0.0   0.0\n",
      "  0.0  -1.0  0.0  0.0  0.0  0.0   0.0  -1.0\n"
     ]
    },
    {
     "data": {
      "text/plain": [
       "ITensor ord=2 (dim=8|id=119|\"CMB,Link\") (dim=8|id=205|\"CMB,Link\")\n",
       "NDTensors.Dense{Float64, Vector{Float64}}"
      ]
     },
     "execution_count": 175,
     "metadata": {},
     "output_type": "execute_result"
    }
   ],
   "source": [
    "@show mpo_to_matrix(H)"
   ]
  },
  {
   "cell_type": "code",
   "execution_count": 176,
   "id": "1d77969d-63fc-4835-9f49-f7e539eaa7de",
   "metadata": {},
   "outputs": [
    {
     "name": "stdout",
     "output_type": "stream",
     "text": [
      "H[1] = ITensor ord=3\n",
      "Dim 1: (dim=2|id=911|\"Link,l=1\")\n",
      "Dim 2: (dim=2|id=957|\"Qubit,Site,n=1\")'\n",
      "Dim 3: (dim=2|id=957|\"Qubit,Site,n=1\")\n",
      "NDTensors.Dense{Float64, Vector{Float64}}\n",
      " 2×2×2\n",
      "[:, :, 1] =\n",
      " 1.0  0.0\n",
      " 1.0  0.0\n",
      "\n",
      "[:, :, 2] =\n",
      " 0.0  -1.0\n",
      " 0.0   1.0\n"
     ]
    },
    {
     "data": {
      "text/plain": [
       "ITensor ord=3 (dim=2|id=911|\"Link,l=1\") (dim=2|id=957|\"Qubit,Site,n=1\")' (dim=2|id=957|\"Qubit,Site,n=1\")\n",
       "NDTensors.Dense{Float64, Vector{Float64}}"
      ]
     },
     "execution_count": 176,
     "metadata": {},
     "output_type": "execute_result"
    }
   ],
   "source": [
    "@show H[1]"
   ]
  },
  {
   "cell_type": "code",
   "execution_count": 179,
   "id": "00fcd81a-ae57-4ed9-ab51-7afb6a1d7e83",
   "metadata": {},
   "outputs": [
    {
     "ename": "LoadError",
     "evalue": "In `permute(::ITensor, inds...)`, the input ITensor has indices: \n\n((dim=2|id=957|\"Qubit,Site,n=1\")', (dim=2|id=957|\"Qubit,Site,n=1\"), (dim=2|id=904|\"Qubit,Site,n=2\")', (dim=2|id=904|\"Qubit,Site,n=2\"), (dim=2|id=996|\"Qubit,Site,n=3\")', (dim=2|id=996|\"Qubit,Site,n=3\"))\n\nbut the desired Index ordering is: \n\n((dim=2|id=911|\"Link,l=1\"), (dim=2|id=996|\"Qubit,Site,n=3\")')",
     "output_type": "error",
     "traceback": [
      "In `permute(::ITensor, inds...)`, the input ITensor has indices: \n\n((dim=2|id=957|\"Qubit,Site,n=1\")', (dim=2|id=957|\"Qubit,Site,n=1\"), (dim=2|id=904|\"Qubit,Site,n=2\")', (dim=2|id=904|\"Qubit,Site,n=2\"), (dim=2|id=996|\"Qubit,Site,n=3\")', (dim=2|id=996|\"Qubit,Site,n=3\"))\n\nbut the desired Index ordering is: \n\n((dim=2|id=911|\"Link,l=1\"), (dim=2|id=996|\"Qubit,Site,n=3\")')",
      "",
      "Stacktrace:",
      " [1] error(s::String)",
      "   @ Base ./error.jl:35",
      " [2] #permute#259",
      "   @ ~/.julia/packages/ITensors/N9rhA/src/tensor_operations/permutations.jl:40 [inlined]",
      " [3] matrix(::ITensor, ::Index{Int64}, ::Vararg{Index{Int64}})",
      "   @ ITensors ~/.julia/packages/ITensors/N9rhA/src/tensor_operations/permutations.jl:207",
      " [4] top-level scope",
      "   @ In[179]:11"
     ]
    }
   ],
   "source": []
  },
  {
   "cell_type": "code",
   "execution_count": 182,
   "id": "629d55d8-9dd7-4c92-a76e-3e9254ac9404",
   "metadata": {},
   "outputs": [
    {
     "ename": "LoadError",
     "evalue": "MethodError: no method matching state(::Index{Int64}, ::ITensor)\n\n\u001b[0mClosest candidates are:\n\u001b[0m  state(::Index, \u001b[91m::AbstractString\u001b[39m; kwargs...)\n\u001b[0m\u001b[90m   @\u001b[39m \u001b[36mITensors\u001b[39m \u001b[90m~/.julia/packages/ITensors/N9rhA/src/physics/\u001b[39m\u001b[90m\u001b[4msitetype.jl:588\u001b[24m\u001b[39m\n\u001b[0m  state(::Index, \u001b[91m::Integer\u001b[39m)\n\u001b[0m\u001b[90m   @\u001b[39m \u001b[36mITensors\u001b[39m \u001b[90m~/.julia/packages/ITensors/N9rhA/src/physics/\u001b[39m\u001b[90m\u001b[4msitetype.jl:629\u001b[24m\u001b[39m\n",
     "output_type": "error",
     "traceback": [
      "MethodError: no method matching state(::Index{Int64}, ::ITensor)\n\n\u001b[0mClosest candidates are:\n\u001b[0m  state(::Index, \u001b[91m::AbstractString\u001b[39m; kwargs...)\n\u001b[0m\u001b[90m   @\u001b[39m \u001b[36mITensors\u001b[39m \u001b[90m~/.julia/packages/ITensors/N9rhA/src/physics/\u001b[39m\u001b[90m\u001b[4msitetype.jl:588\u001b[24m\u001b[39m\n\u001b[0m  state(::Index, \u001b[91m::Integer\u001b[39m)\n\u001b[0m\u001b[90m   @\u001b[39m \u001b[36mITensors\u001b[39m \u001b[90m~/.julia/packages/ITensors/N9rhA/src/physics/\u001b[39m\u001b[90m\u001b[4msitetype.jl:629\u001b[24m\u001b[39m\n",
      "",
      "Stacktrace:",
      " [1] (::ITensors.var\"#927#929\"{Vector{Index{Int64}}, Vector{ITensor}})(j::Int64)",
      "   @ ITensors ./essentials.jl:0",
      " [2] iterate",
      "   @ ./generator.jl:47 [inlined]",
      " [3] collect",
      "   @ ./array.jl:782 [inlined]",
      " [4] MPS(eltype::Type{Float64}, sites::Vector{Index{Int64}}, states_::Vector{ITensor})",
      "   @ ITensors ~/.julia/packages/ITensors/N9rhA/src/mps/mps.jl:417",
      " [5] MPS(sites::Vector{Index{Int64}}, states::Vector{ITensor})",
      "   @ ITensors ~/.julia/packages/ITensors/N9rhA/src/mps/mps.jl:475",
      " [6] top-level scope",
      "   @ In[182]:5"
     ]
    }
   ],
   "source": [
    "sites = siteinds(\"S=1/2\", 4)\n",
    "down_state = state(sites[1], \"Down\")  # This will be |1⟩ for a spin-1/2 site\n",
    "\n",
    "# Create the product state for all 4 qubits being in the down state\n",
    "psi = productMPS(sites, [down_state for _ in 1:4])"
   ]
  },
  {
   "cell_type": "code",
   "execution_count": null,
   "id": "ece7803f-14ae-47e2-8254-f689a025004f",
   "metadata": {},
   "outputs": [],
   "source": []
  }
 ],
 "metadata": {
  "kernelspec": {
   "display_name": "Julia 1.9.2",
   "language": "julia",
   "name": "julia-1.9"
  },
  "language_info": {
   "file_extension": ".jl",
   "mimetype": "application/julia",
   "name": "julia",
   "version": "1.9.2"
  }
 },
 "nbformat": 4,
 "nbformat_minor": 5
}
