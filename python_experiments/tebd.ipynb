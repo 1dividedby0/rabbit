{
 "cells": [
  {
   "cell_type": "code",
   "execution_count": 138,
   "metadata": {},
   "outputs": [],
   "source": [
    "import matplotlib.pyplot as plt\n",
    "import numpy as np\n",
    "import scipy\n",
    "from copy import deepcopy\n",
    "import random\n",
    "import mpmath as mp\n",
    "\n",
    "mp.dps = 200"
   ]
  },
  {
   "cell_type": "code",
   "execution_count": 158,
   "metadata": {},
   "outputs": [],
   "source": [
    "def norm(a):\n",
    "    return [b / mp.norm(a) for b in a]\n",
    "\n",
    "def reconstruct(mps_in):\n",
    "    state_vec = []\n",
    "\n",
    "    mps = deepcopy(mps_in)\n",
    "\n",
    "    N = len(mps)\n",
    "\n",
    "    # this converts to a different index order\n",
    "    # where the physical index is the outermost index and the bond index is contained\n",
    "    # also puts into canonical form we are used to seeing\n",
    "    mps[-1] = np.swapaxes(mps[-1], 0, 1)\n",
    "    for i in range(N-1):\n",
    "        mps[i][0] = np.swapaxes(mps[i][0], 0, 1)\n",
    "\n",
    "    for i in range(2**N):\n",
    "        ind = [int(bit) for bit in format(i, '0{}b'.format(N))]\n",
    "        prod = [[row[ind[-1]]] for row in mps[-1]]\n",
    "        for j in range(N-2, -1, -1):\n",
    "            tensors = mps[j]\n",
    "            prod = tensors[1] @ prod\n",
    "            prod = tensors[0][ind[j]] @ prod\n",
    "\n",
    "        state_vec.append(prod[0])\n",
    "\n",
    "    return norm(state_vec)\n",
    "\n",
    "def mps(state_v, chi=1000000):\n",
    "    mps_v = []\n",
    "    N = int(np.log2(len(state_v)))\n",
    "    right = np.reshape(state_v, (2, 2**(N-1)))\n",
    "    for i in range(N):\n",
    "        if i == N-1:\n",
    "            mps_v.append(right)\n",
    "            continue\n",
    "        gamma, S, right = mp.svd(mp.matrix(right), full_matrices=False)\n",
    "        gamma = np.array(gamma.tolist())\n",
    "        right = np.array(right.tolist())\n",
    "        # left and right most gammas are our MPS caps, only have one bond index\n",
    "        if i > 0 and i < N-1:\n",
    "            if chi < len(S) and chi >= 1:\n",
    "                gamma = gamma[:, :chi]\n",
    "                S = S[:chi]\n",
    "                right = right[:chi, :]\n",
    "\n",
    "            gamma = np.reshape(gamma, (int(gamma.shape[0]/2), 2, gamma.shape[1]))\n",
    "\n",
    "        # don't want to reshape this way when there is only 1 column\n",
    "        if right.shape[1] > 2:\n",
    "            right = np.reshape(right, (int(right.shape[0]*2), int(right.shape[1]/2)))\n",
    "\n",
    "        S = norm(S)\n",
    "        lambd = np.diag(S)\n",
    "        mps_v.append([gamma, lambd])\n",
    "    return mps_v\n",
    "\n",
    "def haar_state(N):\n",
    "    # for some reason, when we use complex amplitudes the fidelity caps out at ~0.85\n",
    "    # this is likely not an issue with the code, since manually creating simple complex\n",
    "    # valued states leads to 1.0 fidelity. Instead, something about randomly generating\n",
    "    # more complex states seems to mess the precision\n",
    "    # state = [complex(np.random.normal(), 0) for _ in range(2**N)]\n",
    "    state = [mp.mpc(mp.rand()) for _ in range(2**N)]\n",
    "    return norm(state)"
   ]
  },
  {
   "cell_type": "code",
   "execution_count": 169,
   "metadata": {},
   "outputs": [
    {
     "name": "stdout",
     "output_type": "stream",
     "text": [
      "[mpc(real='0.013612417346171916', imag='0.0'), mpc(real='0.079847906914325278', imag='0.0'), mpc(real='0.011026112306426977', imag='0.0'), mpc(real='0.22920773494115143', imag='0.0'), mpc(real='0.14449234445694473', imag='0.0'), mpc(real='0.09922853514160733', imag='0.0'), mpc(real='0.24973143431553815', imag='0.0'), mpc(real='0.2535282740557091', imag='0.0'), mpc(real='0.26848079825873616', imag='0.0'), mpc(real='0.27935702856878297', imag='0.0'), mpc(real='0.1578160112028241', imag='0.0'), mpc(real='0.1186042612020792', imag='0.0'), mpc(real='0.14793883388064433', imag='0.0'), mpc(real='0.17048832496829205', imag='0.0'), mpc(real='0.20265863367502199', imag='0.0'), mpc(real='0.30896422008443802', imag='0.0'), mpc(real='0.24957357485987031', imag='0.0'), mpc(real='0.19515319968619754', imag='0.0'), mpc(real='0.16811497110250215', imag='0.0'), mpc(real='0.14210398085595963', imag='0.0'), mpc(real='0.1255994061224936', imag='0.0'), mpc(real='0.24419015556944093', imag='0.0'), mpc(real='0.027702639310654507', imag='0.0'), mpc(real='0.0072333899910371879', imag='0.0'), mpc(real='0.10520559312017179', imag='0.0'), mpc(real='0.30440196049031937', imag='0.0'), mpc(real='0.18016492928289649', imag='0.0'), mpc(real='0.045647531370908809', imag='0.0'), mpc(real='0.046962912669322232', imag='0.0'), mpc(real='0.052700093147846995', imag='0.0'), mpc(real='0.12243062873274704', imag='0.0'), mpc(real='0.15343447223345935', imag='0.0')]\n"
     ]
    },
    {
     "data": {
      "text/plain": [
       "mpf('0.80889057974930423')"
      ]
     },
     "execution_count": 169,
     "metadata": {},
     "output_type": "execute_result"
    }
   ],
   "source": [
    "st = haar_state(5)\n",
    "print(st)\n",
    "a = mps(st)\n",
    "# print(a)\n",
    "b = reconstruct(a)\n",
    "np.dot(np.abs(st), np.abs(b))"
   ]
  }
 ],
 "metadata": {
  "kernelspec": {
   "display_name": "physics14n-pset5",
   "language": "python",
   "name": "python3"
  },
  "language_info": {
   "codemirror_mode": {
    "name": "ipython",
    "version": 3
   },
   "file_extension": ".py",
   "mimetype": "text/x-python",
   "name": "python",
   "nbconvert_exporter": "python",
   "pygments_lexer": "ipython3",
   "version": "3.9.17"
  },
  "orig_nbformat": 4
 },
 "nbformat": 4,
 "nbformat_minor": 2
}
