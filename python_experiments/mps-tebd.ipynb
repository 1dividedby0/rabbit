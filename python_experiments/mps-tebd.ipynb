{
 "cells": [
  {
   "cell_type": "code",
   "execution_count": 116,
   "metadata": {},
   "outputs": [],
   "source": [
    "import numpy as np\n",
    "from scipy.linalg import expm\n",
    "import math\n",
    "import matplotlib.pyplot as plt\n",
    "from matplotlib.ticker import FormatStrFormatter"
   ]
  },
  {
   "cell_type": "code",
   "execution_count": 117,
   "metadata": {},
   "outputs": [],
   "source": [
    "def tensor(A, B):\n",
    "    m = len(A)*len(B)\n",
    "    n = len(A[0])*len(B[0])\n",
    "\n",
    "    prod = []\n",
    "\n",
    "    for i in range(m):\n",
    "        prod.append([])\n",
    "        for j in range(n):\n",
    "            ax = int(i / len(B))\n",
    "            ay = int(j / len(B[0]))\n",
    "            bx = int(i % len(B))\n",
    "            by = int(j % len(B[0]))\n",
    "            prod[i].append(A[ax][ay]*B[bx][by])\n",
    "\n",
    "    return np.array(prod)\n",
    "\n",
    "def tensor_list(ops):\n",
    "    prod = ops[-1]\n",
    "    for i in range(len(ops)-2, -1, -1):\n",
    "        prod = tensor(ops[i], prod)\n",
    "    return np.array(prod)\n",
    "\n",
    "def pauli(pos, dir, N):\n",
    "    factors = [[[1, 0], [0, 1]]]*N\n",
    "    if dir == 'x':\n",
    "        factors[pos] = [[0, 1], [1, 0]]\n",
    "    elif dir == 'y':\n",
    "        factors[pos] = [[0, -1j], [1j, 0]]\n",
    "    elif dir == 'z':\n",
    "        factors[pos] = [[1, 0], [0, -1]]\n",
    "\n",
    "    return tensor_list(factors)\n",
    "\n",
    "def on_site_detuning(pos, N):\n",
    "    sum = 0\n",
    "    for j in range(N):\n",
    "        if np.abs(pos - j) == 1:\n",
    "            sum += V_nn\n",
    "        elif np.abs(pos - j) == 2:\n",
    "            sum += V_nnn\n",
    "\n",
    "    return -0.5 * sum\n",
    "\n",
    "def interaction_strength(pos1, pos2):\n",
    "    if np.abs(pos1 - pos2) == 1:\n",
    "        return V_nn\n",
    "    if np.abs(pos1 - pos2) == 2:\n",
    "        return V_nnn\n",
    "    else:\n",
    "        return 0"
   ]
  },
  {
   "cell_type": "code",
   "execution_count": 118,
   "metadata": {},
   "outputs": [
    {
     "name": "stdout",
     "output_type": "stream",
     "text": [
      "[[1 0 0 0]\n",
      " [0 0 0 0]]\n",
      "[[1. 0.]\n",
      " [0. 1.]] [1. 0.] [[1. 0. 0. 0.]\n",
      " [0. 1. 0. 0.]]\n",
      "[[0. 0.]\n",
      " [0. 0.]]\n"
     ]
    },
    {
     "data": {
      "text/plain": [
       "(array([[1., 0.],\n",
       "        [0., 1.]]),\n",
       " array([0., 0.]),\n",
       " array([[1., 0.],\n",
       "        [0., 1.]]))"
      ]
     },
     "execution_count": 118,
     "metadata": {},
     "output_type": "execute_result"
    }
   ],
   "source": [
    "N = 3\n",
    "state_v = tensor_list([[[1], [0]], [[1], [0]], [[1], [0]]])\n",
    "f = np.reshape(state_v, (2, 2**(N-1)))\n",
    "gamma1, lambda1, V1 = np.linalg.svd(f, full_matrices=False)\n",
    "print(f)\n",
    "print(gamma1, lambda1, V1)\n",
    "\n",
    "# rewrite in terms of local basis of i2\n",
    "tau1 = np.hsplit(V1, 2)\n",
    "print(tau1[1])\n",
    "svds = [np.linalg.svd(tau) for tau in tau1]\n",
    "gamma2 = [svds[0][0], svds[1][0]]\n",
    "lambda2 = [svds[0][1], svds[1][1]]\n",
    "V2 = [svds[0][2], svds[1][2]]\n",
    "\n",
    "svds[0]\n",
    "svds[1]\n"
   ]
  },
  {
   "cell_type": "code",
   "execution_count": 119,
   "metadata": {},
   "outputs": [
    {
     "ename": "SyntaxError",
     "evalue": "invalid syntax (2763040447.py, line 22)",
     "output_type": "error",
     "traceback": [
      "\u001b[0;36m  Input \u001b[0;32mIn [119]\u001b[0;36m\u001b[0m\n\u001b[0;31m    A5 =\u001b[0m\n\u001b[0m         ^\u001b[0m\n\u001b[0;31mSyntaxError\u001b[0m\u001b[0;31m:\u001b[0m invalid syntax\n"
     ]
    }
   ],
   "source": [
    "N = 4\n",
    "state_v = tensor_list([[[1], [0]]] * N)\n",
    "f = np.reshape(state_v, (2, 2**(N-1)))\n",
    "A1, lambda1, V1 = np.linalg.svd(f, full_matrices=False)\n",
    "# diag1 = np.zeros((V1.shape[0], V1.shape[0]), dtype=np.int32)\n",
    "# lambda1 = np.diag(lambda1)\n",
    "# diag1[:lambda1.shape[0], :lambda1.shape[1]] = lambda1\n",
    "# SV = diag1 @ V1\n",
    "# U, lambda2, V2 = np.linalg.svd(np.reshape(diag1 @ V1, (4, 2)), full_matrices=True)\n",
    "U, lambda2, V2 = np.linalg.svd(np.reshape(np.diag(lambda1) @ V1, (4, 4)))\n",
    "# print(U, lambda2, V2)\n",
    "A2 = np.reshape(U, (2, 2, 4))\n",
    "print(A2)\n",
    "U, lambda3, V3 = np.linalg.svd(np.reshape(np.diag(lambda2) @ V2, (8, 2)))\n",
    "A3 = np.reshape(U, (2, 2, 16))\n",
    "print(A3)\n",
    "\n",
    "U, lambda4, V4 = np.linalg.svd(np.reshape(np.diag(lambda3) @ V3, (4, 4)))\n",
    "A4 = np.reshape(U, (2, 2, 4))\n",
    "\n",
    "U, lambda5, V5 = np.linalg.svd(np.diag(lambda4) @ V4)\n",
    "A5 = "
   ]
  },
  {
   "cell_type": "code",
   "execution_count": null,
   "metadata": {},
   "outputs": [],
   "source": [
    "N = 3\n",
    "state_v = tensor_list([[[0], [1]]] * N)\n",
    "f = np.reshape(state_v, (2, 2**(N-1)))\n",
    "A1, lambda1, V1 = np.linalg.svd(f, full_matrices=False)\n",
    "for i in range(1, N):\n",
    "    U, lambda2, V2 = np.linalg.svd(np.reshape(np.diag(lambda1) @ V1, (2**c, 2**())))"
   ]
  },
  {
   "cell_type": "code",
   "execution_count": 1,
   "metadata": {},
   "outputs": [],
   "source": [
    "def contract(mps, N):\n",
    "    state_vec = []\n",
    "    for i in range(2**N):\n",
    "        ind = [int(bit) for bit in format(i, '0{}b'.format(N))]\n",
    "        prod = [[row[ind[-1]]] for row in mps[-1]]\n",
    "        for j in range(len(mps)-2, -1, -1):\n",
    "            tensors = mps[j]\n",
    "            prod = tensors[1] @ prod\n",
    "            prod = tensors[0][ind[j]] @ prod\n",
    "        if i == 3:\n",
    "            print(ind)\n",
    "            print(prod[0])\n",
    "        state_vec.append(prod[0])\n",
    "    return state_vec"
   ]
  },
  {
   "cell_type": "code",
   "execution_count": 194,
   "metadata": {},
   "outputs": [
    {
     "data": {
      "text/plain": [
       "array([[0],\n",
       "       [0],\n",
       "       [1],\n",
       "       [0],\n",
       "       [0],\n",
       "       [0],\n",
       "       [0],\n",
       "       [0]])"
      ]
     },
     "execution_count": 194,
     "metadata": {},
     "output_type": "execute_result"
    }
   ],
   "source": [
    "tensor_list([[[1], [0]], [[0], [1]], [[1], [0]]])"
   ]
  },
  {
   "cell_type": "code",
   "execution_count": 363,
   "metadata": {},
   "outputs": [
    {
     "name": "stdout",
     "output_type": "stream",
     "text": [
      "[[1. 0.]\n",
      " [0. 1.]] [1. 0.] [[1. 0. 0. 0.]\n",
      " [0. 1. 0. 0.]]\n",
      "[[1. 0.]\n",
      " [0. 1.]]\n",
      "[[1. 0.]\n",
      " [0. 0.]]\n",
      "[array([[1., 0.],\n",
      "       [0., 1.]]), array([[1., 0.],\n",
      "       [0., 1.]])]\n",
      "[[1. 0.]\n",
      " [0. 0.]]\n",
      "[array([[ 1.,  0.],\n",
      "       [ 0.,  0.],\n",
      "       [ 0., -1.],\n",
      "       [ 0.,  0.]]), array([[ 0., -1.],\n",
      "       [ 0.,  0.],\n",
      "       [ 1.,  0.],\n",
      "       [ 0.,  0.]])]\n",
      "[[1. 0.]\n",
      " [0. 1.]]\n",
      "[[1. 0.]\n",
      " [0. 1.]]\n"
     ]
    },
    {
     "ename": "ValueError",
     "evalue": "matmul: Input operand 1 has a mismatch in its core dimension 0, with gufunc signature (n?,k),(k,m?)->(n?,m?) (size 4 is different from 2)",
     "output_type": "error",
     "traceback": [
      "\u001b[0;31m---------------------------------------------------------------------------\u001b[0m",
      "\u001b[0;31mValueError\u001b[0m                                Traceback (most recent call last)",
      "\u001b[1;32m/Users/dhruvm/Desktop/Physics Summer Research/mps-tebd.ipynb Cell 8\u001b[0m in \u001b[0;36m<cell line: 58>\u001b[0;34m()\u001b[0m\n\u001b[1;32m     <a href='vscode-notebook-cell:/Users/dhruvm/Desktop/Physics%20Summer%20Research/mps-tebd.ipynb#W6sZmlsZQ%3D%3D?line=53'>54</a>\u001b[0m \u001b[39mprint\u001b[39m(gamma4)\n\u001b[1;32m     <a href='vscode-notebook-cell:/Users/dhruvm/Desktop/Physics%20Summer%20Research/mps-tebd.ipynb#W6sZmlsZQ%3D%3D?line=55'>56</a>\u001b[0m mps \u001b[39m=\u001b[39m [[gamma1, lambda1], [gamma2, lambda2], [gamma3, lambda3], gamma4]\n\u001b[0;32m---> <a href='vscode-notebook-cell:/Users/dhruvm/Desktop/Physics%20Summer%20Research/mps-tebd.ipynb#W6sZmlsZQ%3D%3D?line=57'>58</a>\u001b[0m contract(mps, \u001b[39m4\u001b[39;49m)\n",
      "\u001b[1;32m/Users/dhruvm/Desktop/Physics Summer Research/mps-tebd.ipynb Cell 8\u001b[0m in \u001b[0;36mcontract\u001b[0;34m(mps, N)\u001b[0m\n\u001b[1;32m     <a href='vscode-notebook-cell:/Users/dhruvm/Desktop/Physics%20Summer%20Research/mps-tebd.ipynb#W6sZmlsZQ%3D%3D?line=38'>39</a>\u001b[0m \u001b[39mfor\u001b[39;00m j \u001b[39min\u001b[39;00m \u001b[39mrange\u001b[39m(\u001b[39mlen\u001b[39m(mps)\u001b[39m-\u001b[39m\u001b[39m2\u001b[39m, \u001b[39m-\u001b[39m\u001b[39m1\u001b[39m, \u001b[39m-\u001b[39m\u001b[39m1\u001b[39m):\n\u001b[1;32m     <a href='vscode-notebook-cell:/Users/dhruvm/Desktop/Physics%20Summer%20Research/mps-tebd.ipynb#W6sZmlsZQ%3D%3D?line=39'>40</a>\u001b[0m     tensors \u001b[39m=\u001b[39m mps[j]\n\u001b[0;32m---> <a href='vscode-notebook-cell:/Users/dhruvm/Desktop/Physics%20Summer%20Research/mps-tebd.ipynb#W6sZmlsZQ%3D%3D?line=40'>41</a>\u001b[0m     prod \u001b[39m=\u001b[39m tensors[\u001b[39m1\u001b[39;49m] \u001b[39m@\u001b[39;49m prod\n\u001b[1;32m     <a href='vscode-notebook-cell:/Users/dhruvm/Desktop/Physics%20Summer%20Research/mps-tebd.ipynb#W6sZmlsZQ%3D%3D?line=41'>42</a>\u001b[0m     prod \u001b[39m=\u001b[39m tensors[\u001b[39m0\u001b[39m][ind[j]] \u001b[39m@\u001b[39m prod\n\u001b[1;32m     <a href='vscode-notebook-cell:/Users/dhruvm/Desktop/Physics%20Summer%20Research/mps-tebd.ipynb#W6sZmlsZQ%3D%3D?line=42'>43</a>\u001b[0m state_vec\u001b[39m.\u001b[39mappend(prod[\u001b[39m0\u001b[39m])\n",
      "\u001b[0;31mValueError\u001b[0m: matmul: Input operand 1 has a mismatch in its core dimension 0, with gufunc signature (n?,k),(k,m?)->(n?,m?) (size 4 is different from 2)"
     ]
    }
   ],
   "source": [
    "N = 4\n",
    "state_v = tensor_list([[[1], [0]]]*N)\n",
    "f = np.reshape(state_v, (2, 2**(N-1)))\n",
    "gamma1, lambda1, V1 = np.linalg.svd(f, full_matrices=False)\n",
    "\n",
    "# reshape V1\n",
    "# V1 = np.reshape(V1, (2**2, 2**(N-2)))\n",
    "# gamma2, lambda2, V2 = np.linalg.svd(V1, full_matrices=False)\n",
    "# print(\"G2\")\n",
    "# print(gamma2, lambda2, V2)\n",
    "# gamma2 = np.reshape(gamma2, (2, 2, 4))\n",
    "# V2 = np.reshape(V2, (2**3, 2**(N-3)))\n",
    "# gamma3, lambda3, V3 = np.linalg.svd(V2, full_matrices=False)\n",
    "# gamma3 = np.reshape(gamma3, (2, 4, 2))\n",
    "# gamma4, lambda4, V4 = np.linalg.svd(V3, full_matrices=False)\n",
    "# print(gamma1)\n",
    "# print(lambda1)\n",
    "# print(gamma2)\n",
    "# print(lambda2)\n",
    "# print(gamma3)\n",
    "# print(lambda3)\n",
    "# print(gamma4)\n",
    "# print(\"Yep\")\n",
    "# print(\"Gamma4\")\n",
    "# print(gamma4)\n",
    "\n",
    "V1 = np.reshape(V1, (2, 2, 2**(N-2)))\n",
    "gamma21, lambda21, V21 = np.linalg.svd(V1[0], full_matrices=False)\n",
    "gamma22, lambda22, V22 = np.linalg.svd(V1[1], full_matrices=False)\n",
    "print(gamma21, lambda21, V21)\n",
    "gamma2 = [gamma21, gamma22]\n",
    "V2 = [V21, V22]\n",
    "V2 = np.reshape(V2, (2, 2**2, 2**(N-3)))\n",
    "gamma31, lambda31, V31 = np.linalg.svd(V2[0], full_matrices=False)\n",
    "gamma32, lambda32, V32 = np.linalg.svd(V2[1], full_matrices=False)\n",
    "gamma3 = [gamma31, gamma32]\n",
    "V3 = [V31, V32]\n",
    "# V3 = np.reshape(V3, (2, 2, 2**(N-2)))\n",
    "gamma41, lambda41, V41 = np.linalg.svd(V3[0], full_matrices=False)\n",
    "gamma42, lambda42, V42 = np.linalg.svd(V3[1], full_matrices=False)\n",
    "gamma4 = gamma41\n",
    "\n",
    "lambda1 = np.diag(lambda1)\n",
    "lambda2 = np.diag(lambda21)\n",
    "lambda3 = np.diag(lambda31)\n",
    "lambda4 = np.diag(lambda41)\n",
    "\n",
    "print(gamma1)\n",
    "print(lambda1)\n",
    "print(gamma2)\n",
    "print(lambda2)\n",
    "print(gamma3)\n",
    "print(lambda3)\n",
    "print(gamma4)\n",
    "\n",
    "mps = [[gamma1, lambda1], [gamma2, lambda2], [gamma3, lambda3], gamma4]\n",
    "\n",
    "contract(mps, 4)\n"
   ]
  },
  {
   "cell_type": "code",
   "execution_count": 2,
   "metadata": {},
   "outputs": [
    {
     "name": "stdout",
     "output_type": "stream",
     "text": [
      "[[1. 0. 0. 0.]\n",
      " [0. 1. 0. 0.]]\n",
      "[[[1. 0.]\n",
      "  [0. 0.]]\n",
      "\n",
      " [[0. 1.]\n",
      "  [0. 0.]]]\n",
      "[[1. 0.]\n",
      " [0. 1.]]\n",
      "[[1. 0.]\n",
      " [0. 0.]]\n",
      "[array([[1., 0.],\n",
      "       [0., 1.]]), array([[1., 0.],\n",
      "       [0., 1.]])]\n",
      "[[1. 0.]\n",
      " [0. 0.]]\n",
      "[[1. 0.]\n",
      " [0. 1.]]\n",
      "[0, 1, 1]\n",
      "0.0\n"
     ]
    },
    {
     "data": {
      "text/plain": [
       "[1.0, 0.0, 1.0, 0.0, 0.0, 0.0, 0.0, 0.0]"
      ]
     },
     "execution_count": 2,
     "metadata": {},
     "output_type": "execute_result"
    }
   ],
   "source": [
    "import numpy as np\n",
    "# state_v = [0, 1/np.sqrt(3), 1/np.sqrt(3), 0, 1/np.sqrt(3), 0, 0, 0]\n",
    "# state_v = tensor_list([[[1], [0]]]*N)\n",
    "# state_v = tensor_list([[[1], [0]], [[1], [0]], [[0], [1]]])\n",
    "def mps_3_split():\n",
    "    N = 3\n",
    "    state_v = [1,0,0,0,0,0,0,0]\n",
    "    f = np.reshape(state_v, (2, 2**(N-1)))\n",
    "    gamma1, lambda1, V1 = np.linalg.svd(f, full_matrices=False)\n",
    "    print(V1)\n",
    "    # reshape V1\n",
    "    V1 = np.reshape(V1, (2, 2, 2**(N-2)))\n",
    "    print(V1)\n",
    "    gamma21, lambda21, V21 = np.linalg.svd(V1[0], full_matrices=False)\n",
    "    gamma22, lambda22, V22 = np.linalg.svd(V1[1], full_matrices=False)\n",
    "    gamma2 = [gamma21, gamma22]\n",
    "    gamma31, lambda31, V31 = np.linalg.svd(V21, full_matrices=False)\n",
    "    gamma32, lambda32, V32 = np.linalg.svd(V22, full_matrices=False)\n",
    "    gamma3 = gamma31\n",
    "\n",
    "    lambda1 = np.diag(lambda1)\n",
    "    lambda2 = np.diag(lambda21)\n",
    "    lambda3 = np.diag(lambda31)\n",
    "\n",
    "    print(gamma1)\n",
    "    print(lambda1)\n",
    "    print(gamma2)\n",
    "    print(lambda2)\n",
    "    print(gamma3)\n",
    "\n",
    "    mps = [[gamma1, lambda1], [gamma2, lambda2], gamma3]\n",
    "\n",
    "    return contract(mps, N)\n",
    "mps_3_split()\n"
   ]
  },
  {
   "cell_type": "code",
   "execution_count": 17,
   "metadata": {},
   "outputs": [
    {
     "name": "stdout",
     "output_type": "stream",
     "text": [
      "[[0.70710678 0.        ]\n",
      " [0.         1.        ]\n",
      " [0.         0.70710678]\n",
      " [0.         0.        ]]\n",
      "[[ 0.          1.        ]\n",
      " [-0.81649658  0.        ]\n",
      " [-0.57735027  0.        ]\n",
      " [ 0.          0.        ]] [1.22474487 0.70710678] [[-0. -1.]\n",
      " [ 1.  0.]]\n",
      "[[0. 1.]\n",
      " [1. 0.]]\n",
      "[1.41421356 1.        ]\n",
      "22\n",
      "[[[ 0.          1.        ]\n",
      "  [-0.81649658  0.        ]]\n",
      "\n",
      " [[-0.57735027  0.        ]\n",
      "  [ 0.          0.        ]]]\n",
      "[0.8660254 0.5      ]\n",
      "[[ 0. -1.]\n",
      " [-1.  0.]]\n",
      "[0, 1, 1]\n",
      "0.0\n"
     ]
    },
    {
     "data": {
      "text/plain": [
       "[0.0,\n",
       " 0.7071067811865475,\n",
       " 0.0,\n",
       " 0.0,\n",
       " 0.7071067811865476,\n",
       " 0.0,\n",
       " 0.0,\n",
       " 0.7071067811865475]"
      ]
     },
     "execution_count": 17,
     "metadata": {},
     "output_type": "execute_result"
    }
   ],
   "source": [
    "import numpy as np\n",
    "# state_v = [0, 1/np.sqrt(3), 1/np.sqrt(3), 0, 1/np.sqrt(3), 0, 0, 0]\n",
    "# state_v = tensor_list([[[1], [0]]]*N)\n",
    "# state_v = tensor_list([[[1], [0]], [[1], [0]], [[0], [1]]])\n",
    "N = 3\n",
    "state_v = [0,0,1,0,1,0,0,1]\n",
    "f = np.reshape(state_v, (2, 2**(N-1)))\n",
    "gamma1, lambda1, V1 = np.linalg.svd(f, full_matrices=False)\n",
    "# reshape V1\n",
    "V1 = np.reshape(V1, (2**2, 2**(N-2)))\n",
    "# V1[[1, 2]] = V1[[2, 1]]\n",
    "print(V1)\n",
    "# V1 = np.reshape(V1, (2, 2, 2**(N-2)))\n",
    "gamma2, lambda2, V2 = np.linalg.svd(V1, full_matrices=False)\n",
    "print(gamma2, lambda2, V2)\n",
    "gamma2 = np.reshape(gamma2, (2, 2, 2))\n",
    "lambda2 = lambda2 / np.linalg.norm(lambda2)\n",
    "gamma3, lambda3, V3 = np.linalg.svd(V2, full_matrices=False)\n",
    "\n",
    "print(gamma1)\n",
    "print(lambda1)\n",
    "print(\"22\")\n",
    "print(gamma2)\n",
    "print(lambda2)\n",
    "print(gamma3)\n",
    "\n",
    "lambda1 = np.diag(lambda1)\n",
    "lambda2 = np.diag(lambda2)\n",
    "lambda3 = np.diag(lambda3)\n",
    "\n",
    "mps = [[gamma1, lambda1], [gamma2, lambda2], V2]\n",
    "\n",
    "contract(mps, N)\n"
   ]
  },
  {
   "cell_type": "code",
   "execution_count": 3,
   "metadata": {},
   "outputs": [
    {
     "name": "stdout",
     "output_type": "stream",
     "text": [
      "[[-0.85065081 -0.52573111]\n",
      " [-0.52573111  0.85065081]]\n",
      "[0.80901699 0.30901699]\n",
      "[[-0.70710678 -0.70710678]\n",
      " [-0.70710678  0.70710678]]\n"
     ]
    },
    {
     "ename": "NameError",
     "evalue": "name 'contract' is not defined",
     "output_type": "error",
     "traceback": [
      "\u001b[0;31m---------------------------------------------------------------------------\u001b[0m",
      "\u001b[0;31mNameError\u001b[0m                                 Traceback (most recent call last)",
      "Cell \u001b[0;32mIn[3], line 22\u001b[0m\n\u001b[1;32m     18\u001b[0m lambda1 \u001b[39m=\u001b[39m np\u001b[39m.\u001b[39mdiag(np\u001b[39m.\u001b[39mabs(lambda1))\n\u001b[1;32m     20\u001b[0m mps \u001b[39m=\u001b[39m [[gamma1, lambda1], gamma2]\n\u001b[0;32m---> 22\u001b[0m contract(mps, N)\n",
      "\u001b[0;31mNameError\u001b[0m: name 'contract' is not defined"
     ]
    }
   ],
   "source": [
    "\n",
    "# state_v = [0, 1/np.sqrt(3), 1/np.sqrt(3), 0, 1/np.sqrt(3), 0, 0, 0]\n",
    "# state_v = tensor_list([[[1], [0]]]*N)\n",
    "# state_v = tensor_list([[[1], [0]], [[1], [0]], [[0], [1]]])\n",
    "import numpy as np\n",
    "N = 2\n",
    "state_v = [1/2,1/2,1/2,0]\n",
    "f = np.reshape(state_v, (2, 2**(N-1)))\n",
    "gamma1, lambda1, V1 = np.linalg.svd(f, full_matrices=False)\n",
    "# reshape V1\n",
    "# V1 = np.reshape(V1, (2**2, 2**(N-2)))\n",
    "# print(V1)\n",
    "gamma2, lambda2, V2 = np.linalg.svd(np.abs(V1), full_matrices=False)\n",
    "\n",
    "print(gamma1)\n",
    "print(lambda1)\n",
    "print(gamma2)\n",
    "\n",
    "lambda1 = np.diag(np.abs(lambda1))\n",
    "\n",
    "mps = [[gamma1, lambda1], gamma2]\n",
    "\n",
    "contract(mps, N)"
   ]
  }
 ],
 "metadata": {
  "kernelspec": {
   "display_name": "physics14n-pset5",
   "language": "python",
   "name": "python3"
  },
  "language_info": {
   "codemirror_mode": {
    "name": "ipython",
    "version": 3
   },
   "file_extension": ".py",
   "mimetype": "text/x-python",
   "name": "python",
   "nbconvert_exporter": "python",
   "pygments_lexer": "ipython3",
   "version": "3.9.17"
  },
  "orig_nbformat": 4
 },
 "nbformat": 4,
 "nbformat_minor": 2
}
