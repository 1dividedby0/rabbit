{
 "cells": [
  {
   "cell_type": "code",
   "execution_count": 31,
   "metadata": {},
   "outputs": [],
   "source": [
    "import numpy as np\n",
    "import math\n",
    "import matplotlib.pyplot as plt\n",
    "from matplotlib import cm"
   ]
  },
  {
   "cell_type": "code",
   "execution_count": 32,
   "metadata": {},
   "outputs": [],
   "source": [
    "def tensor(A, B):\n",
    "    m = len(A)*len(B)\n",
    "    n = len(A[0])*len(B[0])\n",
    "\n",
    "    prod = []\n",
    "\n",
    "    for i in range(m):\n",
    "        prod.append([])\n",
    "        for j in range(n):\n",
    "            ax = int(i / len(B))\n",
    "            ay = int(j / len(B[0]))\n",
    "            bx = int(i % len(B))\n",
    "            by = int(j % len(B[0]))\n",
    "            prod[i].append(A[ax][ay]*B[bx][by])\n",
    "\n",
    "    return np.array(prod)\n",
    "\n",
    "def tensor_list(ops):\n",
    "    prod = ops[-1]\n",
    "    for i in range(len(ops)-2, -1, -1):\n",
    "        prod = tensor(ops[i], prod)\n",
    "    return np.array(prod)\n",
    "\n",
    "def pauli(pos, dir, N):\n",
    "    factors = [[[1, 0], [0, 1]]]*N\n",
    "    if dir == 'x':\n",
    "        factors[pos] = [[0, 1], [1, 0]]\n",
    "    elif dir == 'y':\n",
    "        factors[pos] = [[0, -1j], [1j, 0]]\n",
    "    elif dir == 'z':\n",
    "        factors[pos] = [[1, 0], [0, -1]]\n",
    "\n",
    "    return tensor_list(factors)"
   ]
  },
  {
   "cell_type": "code",
   "execution_count": 33,
   "metadata": {},
   "outputs": [],
   "source": [
    "N = 5\n",
    "x = np.array(sum([pauli(i, 'x', N) for i in range(N)]))\n",
    "xy = sum([pauli(i, 'x', N) @ pauli(i+1, 'x', N) + pauli(i, 'y', N) @ pauli(i+1, 'y', N) for i in range(N-1)])\n",
    "zz = sum([pauli(i, 'z', N) @ pauli(i+1, 'z', N) for i in range(N-1)])"
   ]
  },
  {
   "cell_type": "code",
   "execution_count": 34,
   "metadata": {},
   "outputs": [
    {
     "data": {
      "image/png": "[encoded data removed]",
      "text/plain": [
       "<Figure size 432x288 with 3 Axes>"
      ]
     },
     "metadata": {
      "needs_background": "light"
     },
     "output_type": "display_data"
    }
   ],
   "source": [
    "# plotting code from https://matplotlib.org/stable/gallery/mplot3d/surface3d.html#sphx-glr-gallery-mplot3d-surface3d-py\n",
    "fig, axes = plt.subplots(ncols=3, subplot_kw={\"projection\": \"3d\"})\n",
    "\n",
    "# Make data.\n",
    "X = np.arange(2**N)\n",
    "Y = np.arange(2**N)\n",
    "X, Y = np.meshgrid(X, Y)\n",
    "\n",
    "# Plot the surface.\n",
    "surf1 = axes[0].plot_surface(X, Y, x, cmap=cm.coolwarm,\n",
    "                       linewidth=0, antialiased=False, label='Pauli X')\n",
    "surf2 = axes[1].plot_surface(X, Y, xy, cmap=cm.coolwarm,\n",
    "                       linewidth=0, antialiased=False, label='Pauli XX + YY')\n",
    "surf3 = axes[2].plot_surface(X, Y, zz, cmap=cm.coolwarm,\n",
    "                       linewidth=0, antialiased=False, label='Pauli ZZ')\n",
    "\n",
    "\n",
    "plt.show()"
   ]
  },
  {
   "cell_type": "code",
   "execution_count": 44,
   "metadata": {},
   "outputs": [
    {
     "name": "stdout",
     "output_type": "stream",
     "text": [
      "Eigenvalues\n",
      "[-3.8568594133555965, -3.662968705432463, -3.2140791967394606]\n",
      "Eigenvectors (Real)\n",
      "[ 0.16224366  0.06399334  0.1115852   0.20055646  0.12845273  0.08500861\n",
      " -0.32085904  0.02409754  0.12705021  0.07189047  0.37971293 -0.11310387\n",
      " -0.10835284  0.09476188  0.09622675  0.06328029 -0.11501783  0.1159349\n",
      " -0.09635677  0.38786869 -0.04650349  0.10217247 -0.07939025  0.13873189\n",
      "  0.35784902  0.13448401 -0.28428028 -0.01522595 -0.00975864  0.09176781\n",
      " -0.13473047 -0.31460397]\n",
      "[ 1.74884856e-01  2.77172685e-01 -1.66317203e-01 -1.73575380e-01\n",
      "  2.49223436e-01 -2.25559021e-01  4.91822979e-17  3.80283890e-02\n",
      "  1.77048979e-01  1.84386935e-01  6.94600942e-04  3.77260609e-01\n",
      "  1.35695271e-16  1.95061870e-02  3.78624488e-01 -2.49229447e-01\n",
      "  2.38484847e-16 -1.63124923e-02  3.70383462e-01 -4.15122300e-02\n",
      "  8.16763735e-03  3.94730148e-01  1.08583142e-01 -6.21708737e-17\n",
      "  1.82010767e-16 -6.10622027e-15  2.38359732e-17 -1.04305872e-16\n",
      " -3.35834792e-17  2.45184987e-16  2.67589677e-16 -1.81637176e-16]\n",
      "[ 1.61088879e-01  2.03934783e-01  2.07729565e-01 -1.95358146e-01\n",
      "  7.96032719e-02 -5.37647362e-02  2.09050188e-01  4.28122841e-02\n",
      " -2.31454321e-01  9.73959612e-02 -6.51251245e-02 -3.09664460e-01\n",
      " -8.42731721e-02  2.35609503e-02  1.32878382e-01 -2.00846668e-01\n",
      "  1.33721408e-01  9.18948987e-03  1.12480415e-01  7.00362604e-02\n",
      "  3.80470974e-02 -3.11193243e-01  4.91181572e-02 -3.33529491e-01\n",
      "  2.41155138e-01 -1.66101051e-04  6.78900181e-02  2.40362717e-01\n",
      "  2.72462806e-01 -1.83731358e-02 -3.50943451e-01 -4.24115199e-02]\n",
      "Eigenvectors (Imaginary)\n",
      "[ 0.  0. -0.  0. -0.  0.  0. -0. -0. -0.  0.  0.  0.  0.  0. -0.  0. -0.\n",
      "  0.  0.  0. -0.  0. -0.  0. -0.  0.  0.  0.  0.  0.  0.]\n",
      "[ 0.  0.  0.  0. -0.  0. -0. -0. -0. -0.  0.  0. -0.  0.  0.  0. -0.  0.\n",
      " -0.  0.  0.  0. -0.  0.  0.  0.  0.  0.  0.  0.  0.  0.]\n",
      "[ 0.  0. -0.  0. -0.  0. -0. -0.  0. -0.  0.  0.  0.  0.  0.  0. -0. -0.\n",
      " -0.  0.  0.  0. -0.  0.  0.  0.  0.  0. -0.  0.  0.  0.]\n"
     ]
    }
   ],
   "source": [
    "rabi_f = 1\n",
    "Jxy = 0.3\n",
    "Jz = 0.1\n",
    "\n",
    "H = rabi_f * x + Jxy * xy + Jz * zz\n",
    "eigvalues, eigenvectors = np.linalg.eig(H)\n",
    "\n",
    "indices = [0,0,0]\n",
    "for i in range(len(eigvalues)):\n",
    "    if sorted(eigvalues.real)[0] == eigvalues[i]:\n",
    "        indices[0] = i\n",
    "    if sorted(eigvalues.real)[1] == eigvalues[i]:\n",
    "        indices[1] = i\n",
    "    if sorted(eigvalues.real)[2] == eigvalues[i]:\n",
    "        indices[2] = i\n",
    "\n",
    "print(\"Eigenvalues\")\n",
    "print(sorted(eigvalues.real)[:3])\n",
    "print(\"Eigenvectors (Real)\")\n",
    "for i in range(3):\n",
    "    print(eigenvectors[indices[i]].real)\n",
    "\n",
    "print(\"Eigenvectors (Imaginary)\")\n",
    "for i in range(3):\n",
    "    print(eigenvectors[indices[i]].imag)"
   ]
  }
 ],
 "metadata": {
  "kernelspec": {
   "display_name": "physics14n-pset5",
   "language": "python",
   "name": "python3"
  },
  "language_info": {
   "codemirror_mode": {
    "name": "ipython",
    "version": 3
   },
   "file_extension": ".py",
   "mimetype": "text/x-python",
   "name": "python",
   "nbconvert_exporter": "python",
   "pygments_lexer": "ipython3",
   "version": "3.9.12"
  },
  "orig_nbformat": 4
 },
 "nbformat": 4,
 "nbformat_minor": 2
}
