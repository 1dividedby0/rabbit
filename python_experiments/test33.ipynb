{
 "cells": [
  {
   "cell_type": "code",
   "execution_count": 1,
   "metadata": {},
   "outputs": [],
   "source": [
    "import matplotlib.pyplot as plt\n",
    "import numpy as np\n",
    "import scipy\n",
    "from copy import deepcopy\n",
    "import random\n",
    "import numba as nb\n",
    "import time\n",
    "import warnings\n",
    "warnings.filterwarnings(\"ignore\")\n",
    "\n",
    "def tensor(A, B):\n",
    "    m = len(A)*len(B)\n",
    "    n = len(A[0])*len(B[0])\n",
    "\n",
    "    prod = []\n",
    "\n",
    "    for i in range(m):\n",
    "        prod.append([])\n",
    "        for j in range(n):\n",
    "            ax = int(i / len(B))\n",
    "            ay = int(j / len(B[0]))\n",
    "            bx = int(i % len(B))\n",
    "            by = int(j % len(B[0]))\n",
    "            prod[i].append(A[ax][ay]*B[bx][by])\n",
    "\n",
    "    return np.array(prod)\n",
    "\n",
    "def tensor_list(ops):\n",
    "    prod = ops[-1]\n",
    "    for i in range(len(ops)-2, -1, -1):\n",
    "        prod = tensor(ops[i], prod)\n",
    "    return np.array(prod)\n",
    "\n",
    "def pauli(pos, dir, N):\n",
    "    factors = [[[1, 0], [0, 1]]]*N\n",
    "    if dir == 0 or dir == 'x':\n",
    "        factors[pos] = [[0, 1], [1, 0]]\n",
    "    elif dir == 1 or dir == 'y': # y\n",
    "        factors[pos] = [[0, -1j], [1j, 0]]\n",
    "    elif dir == 2 or dir == 'z': # z\n",
    "        factors[pos] = [[1, 0], [0, -1]]\n",
    "\n",
    "    return tensor_list(factors)\n",
    "\n",
    "def on_site_detuning(pos, N, V_nn, V_nnn):\n",
    "    sum = 0\n",
    "    for j in range(N):\n",
    "        if np.abs(pos - j) == 1:\n",
    "            sum += V_nn\n",
    "        elif np.abs(pos - j) == 2:\n",
    "            sum += V_nnn\n",
    "\n",
    "    return -0.5 * sum\n",
    "\n",
    "def interaction_strength(pos1, pos2, V_nn, V_nnn):\n",
    "    if np.abs(pos1 - pos2) == 1:\n",
    "        return V_nn\n",
    "    if np.abs(pos1 - pos2) == 2:\n",
    "        return V_nnn\n",
    "    else:\n",
    "        return 0"
   ]
  },
  {
   "cell_type": "code",
   "execution_count": null,
   "metadata": {},
   "outputs": [],
   "source": []
  },
  {
   "cell_type": "code",
   "execution_count": 9,
   "metadata": {},
   "outputs": [],
   "source": [
    "# construct Hamiltonian\n",
    "rabi_f = 2*np.pi*6.4*(10**6) # rabi frequency for Rydberg to ground state cycles (Hz)\n",
    "V_nn = 2*np.pi*60*(10**6) # nearest neighbors interaction strength (Hz) (ref page 180, strongly interacting pairs)\n",
    "V_nnn = 2*np.pi*2.3*(10**6) # next nearest neighbors interaction strength (Hz)\n",
    "\n",
    "def hamiltonian(N, rabi_f, delta, V_nn, V_nnn):\n",
    "    H = 0.5 * rabi_f * sum([pauli(i, 'x', N) for i in range(N)])\n",
    "\n",
    "    print(0.5 * rabi_f)\n",
    "\n",
    "    H -= 0.5 * sum([(delta + on_site_detuning(i, N, V_nn, V_nnn)) * pauli(i, 'z', N) for i in range(N)])\n",
    "    print()\n",
    "    for i in range(N):\n",
    "        print(-0.5 * (delta + on_site_detuning(i, N, V_nn, V_nnn)))\n",
    "\n",
    "    print()\n",
    "    for i in range(N):\n",
    "        for j in range(N):\n",
    "            print(i, j, 0.125*interaction_strength(i, j, V_nn, V_nnn))\n",
    "\n",
    "    interaction_term = sum([sum([interaction_strength(i, j, V_nn, V_nnn) * pauli(i, 'z', N) @ pauli(j, 'z', N) for j in range(N)]) for i in range(N)])\n",
    "    H += 0.125 * interaction_term\n",
    "    return H"
   ]
  },
  {
   "cell_type": "code",
   "execution_count": 10,
   "metadata": {},
   "outputs": [
    {
     "name": "stdout",
     "output_type": "stream",
     "text": [
      "20106192.982974675\n",
      "\n",
      "97860611.15932205\n",
      "188495559.21538758\n",
      "97860611.15932205\n",
      "\n",
      "0 0 0.0\n",
      "0 1 47123889.803846896\n",
      "0 2 1806415.775814131\n",
      "1 0 47123889.803846896\n",
      "1 1 0.0\n",
      "1 2 47123889.803846896\n",
      "2 0 1806415.775814131\n",
      "2 1 47123889.803846896\n",
      "2 2 0.0\n"
     ]
    },
    {
     "data": {
      "text/plain": [
       "array([[ 5.76325172e+08,  2.01061930e+07,  2.01061930e+07,\n",
       "         0.00000000e+00,  2.01061930e+07,  0.00000000e+00,\n",
       "         0.00000000e+00,  0.00000000e+00],\n",
       "       [ 2.01061930e+07,  1.84882728e+08,  0.00000000e+00,\n",
       "         2.01061930e+07,  0.00000000e+00,  2.01061930e+07,\n",
       "         0.00000000e+00,  0.00000000e+00],\n",
       "       [ 2.01061930e+07,  0.00000000e+00, -1.77657065e+08,\n",
       "         2.01061930e+07,  0.00000000e+00,  0.00000000e+00,\n",
       "         2.01061930e+07,  0.00000000e+00],\n",
       "       [ 0.00000000e+00,  2.01061930e+07,  2.01061930e+07,\n",
       "        -1.92108391e+08,  0.00000000e+00,  0.00000000e+00,\n",
       "         0.00000000e+00,  2.01061930e+07],\n",
       "       [ 2.01061930e+07,  0.00000000e+00,  0.00000000e+00,\n",
       "         0.00000000e+00,  1.84882728e+08,  2.01061930e+07,\n",
       "         2.01061930e+07,  0.00000000e+00],\n",
       "       [ 0.00000000e+00,  2.01061930e+07,  0.00000000e+00,\n",
       "         0.00000000e+00,  2.01061930e+07, -1.92108391e+08,\n",
       "         0.00000000e+00,  2.01061930e+07],\n",
       "       [ 0.00000000e+00,  0.00000000e+00,  2.01061930e+07,\n",
       "         0.00000000e+00,  2.01061930e+07,  0.00000000e+00,\n",
       "        -1.92108391e+08,  2.01061930e+07],\n",
       "       [ 0.00000000e+00,  0.00000000e+00,  0.00000000e+00,\n",
       "         2.01061930e+07,  0.00000000e+00,  2.01061930e+07,\n",
       "         2.01061930e+07, -1.92108391e+08]])"
      ]
     },
     "execution_count": 10,
     "metadata": {},
     "output_type": "execute_result"
    }
   ],
   "source": [
    "hamiltonian(3, rabi_f, 0, V_nn, V_nnn)"
   ]
  }
 ],
 "metadata": {
  "kernelspec": {
   "display_name": "physics14n-pset5",
   "language": "python",
   "name": "python3"
  },
  "language_info": {
   "codemirror_mode": {
    "name": "ipython",
    "version": 3
   },
   "file_extension": ".py",
   "mimetype": "text/x-python",
   "name": "python",
   "nbconvert_exporter": "python",
   "pygments_lexer": "ipython3",
   "version": "3.9.17"
  },
  "orig_nbformat": 4
 },
 "nbformat": 4,
 "nbformat_minor": 2
}
