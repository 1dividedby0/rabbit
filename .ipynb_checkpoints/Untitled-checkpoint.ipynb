{
 "cells": [
  {
   "cell_type": "code",
   "execution_count": 1,
   "id": "54483d09-2989-4454-bee3-e8f178c2ac47",
   "metadata": {},
   "outputs": [],
   "source": [
    "using ITensors"
   ]
  },
  {
   "cell_type": "code",
   "execution_count": 147,
   "id": "bec1858c-fe33-4620-9d3e-3ade92749e8e",
   "metadata": {},
   "outputs": [],
   "source": [
    "ITensors.op(::OpName\"z\",::SiteType\"S=1/2\") = [1, 0, 0, -1]"
   ]
  },
  {
   "cell_type": "code",
   "execution_count": 168,
   "id": "bdc45bd5-d823-4616-8fd9-d7b2a64d5d87",
   "metadata": {},
   "outputs": [
    {
     "ename": "LoadError",
     "evalue": "Trying to create an ITensor without any indices from Array [1.0 0.0; 0.0 -1.0] of dimensions (2, 2). Cannot construct an ITensor from an Array with more than one element without any indices.",
     "output_type": "error",
     "traceback": [
      "Trying to create an ITensor without any indices from Array [1.0 0.0; 0.0 -1.0] of dimensions (2, 2). Cannot construct an ITensor from an Array with more than one element without any indices.",
      "",
      "Stacktrace:",
      " [1] error(s::String)",
      "   @ Base ./error.jl:35",
      " [2] ITensor(as::NDTensors.NeverAlias, eltype::Type{Float64}, A::Matrix{Float64}; kwargs::Base.Pairs{Symbol, Union{}, Tuple{}, NamedTuple{(), Tuple{}}})",
      "   @ ITensors ~/.julia/packages/ITensors/N9rhA/src/itensor.jl:385",
      " [3] ITensor",
      "   @ ~/.julia/packages/ITensors/N9rhA/src/itensor.jl:381 [inlined]",
      " [4] #ITensor#134",
      "   @ ~/.julia/packages/ITensors/N9rhA/src/itensor.jl:396 [inlined]",
      " [5] ITensor(A::Matrix{Float64})",
      "   @ ITensors ~/.julia/packages/ITensors/N9rhA/src/itensor.jl:395",
      " [6] top-level scope",
      "   @ In[168]:3"
     ]
    }
   ],
   "source": [
    "sites = siteinds(\"Qubit\", 3; conserve_qns=false)\n",
    "os = OpSum()\n",
    "os+= \"z\", 1\n",
    "H = MPO(os, sites)"
   ]
  },
  {
   "cell_type": "code",
   "execution_count": 166,
   "id": "9645b41f-fcfa-4f16-9248-fdfe2e2cec7e",
   "metadata": {},
   "outputs": [
    {
     "data": {
      "text/plain": [
       "mpo_to_matrix (generic function with 1 method)"
      ]
     },
     "execution_count": 166,
     "metadata": {},
     "output_type": "execute_result"
    }
   ],
   "source": [
    "function mpo_to_matrix(H::MPO)\n",
    "    # Convert MPO to ITensor\n",
    "    T = copy(H[1])\n",
    "    for n = 2:length(H)\n",
    "        T *= H[n]\n",
    "    end\n",
    "\n",
    "    all_inds = inds(T)\n",
    "\n",
    "    row_inds = all_inds[1:3]\n",
    "    col_inds = all_inds[4:6]\n",
    "\n",
    "    row_combiner = combiner(row_inds...)\n",
    "    col_combiner = combiner(col_inds...)\n",
    "\n",
    "    T_matrix = row_combiner * T * col_combiner\n",
    "\n",
    "    return T_matrix\n",
    "end"
   ]
  },
  {
   "cell_type": "code",
   "execution_count": 167,
   "id": "f8c75fba-1218-4776-9eb2-12f499962800",
   "metadata": {},
   "outputs": [
    {
     "name": "stdout",
     "output_type": "stream",
     "text": [
      "mpo_to_matrix(H) = ITensor ord=2\n",
      "Dim 1: (dim=8|id=339|\"CMB,Link\")\n",
      "Dim 2: (dim=8|id=771|\"CMB,Link\")\n",
      "NDTensors.Dense{Float64, Vector{Float64}}\n",
      " 8×8\n",
      "  1.0   0.0  0.0  0.0  0.0  0.0   1.0   0.0\n",
      "  0.0   0.0  0.0  0.0  0.0  0.0   0.0   0.0\n",
      "  0.0   0.0  0.0  0.0  0.0  0.0   0.0   0.0\n",
      " -1.0   0.0  0.0  0.0  0.0  0.0  -1.0   0.0\n",
      "  0.0   1.0  0.0  0.0  0.0  0.0   0.0   1.0\n",
      "  0.0   0.0  0.0  0.0  0.0  0.0   0.0   0.0\n",
      "  0.0   0.0  0.0  0.0  0.0  0.0   0.0   0.0\n",
      "  0.0  -1.0  0.0  0.0  0.0  0.0   0.0  -1.0\n"
     ]
    },
    {
     "data": {
      "text/plain": [
       "ITensor ord=2 (dim=8|id=339|\"CMB,Link\") (dim=8|id=771|\"CMB,Link\")\n",
       "NDTensors.Dense{Float64, Vector{Float64}}"
      ]
     },
     "execution_count": 167,
     "metadata": {},
     "output_type": "execute_result"
    }
   ],
   "source": [
    "@show mpo_to_matrix(H)"
   ]
  },
  {
   "cell_type": "code",
   "execution_count": 151,
   "id": "1d77969d-63fc-4835-9f49-f7e539eaa7de",
   "metadata": {},
   "outputs": [
    {
     "name": "stdout",
     "output_type": "stream",
     "text": [
      "H[1] = ITensor ord=2\n",
      "Dim 1: (dim=2|id=651|\"S=1/2,Site,n=1\")'\n",
      "Dim 2: (dim=2|id=651|\"S=1/2,Site,n=1\")\n",
      "NDTensors.Dense{Float64, Vector{Float64}}\n",
      " 2×2\n",
      " 1.0   0.0\n",
      " 0.0  -1.0\n"
     ]
    },
    {
     "data": {
      "text/plain": [
       "ITensor ord=2 (dim=2|id=651|\"S=1/2,Site,n=1\")' (dim=2|id=651|\"S=1/2,Site,n=1\")\n",
       "NDTensors.Dense{Float64, Vector{Float64}}"
      ]
     },
     "execution_count": 151,
     "metadata": {},
     "output_type": "execute_result"
    }
   ],
   "source": [
    "@show H[1]"
   ]
  },
  {
   "cell_type": "code",
   "execution_count": null,
   "id": "00fcd81a-ae57-4ed9-ab51-7afb6a1d7e83",
   "metadata": {},
   "outputs": [],
   "source": []
  }
 ],
 "metadata": {
  "kernelspec": {
   "display_name": "Julia 1.9.2",
   "language": "julia",
   "name": "julia-1.9"
  },
  "language_info": {
   "file_extension": ".jl",
   "mimetype": "application/julia",
   "name": "julia",
   "version": "1.9.2"
  }
 },
 "nbformat": 4,
 "nbformat_minor": 5
}
