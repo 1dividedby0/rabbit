{
 "cells": [
  {
   "cell_type": "code",
   "execution_count": 72,
   "metadata": {},
   "outputs": [],
   "source": [
    "import matplotlib.pyplot as plt\n",
    "import numpy as np\n",
    "import scipy\n",
    "from copy import deepcopy\n",
    "import random\n",
    "import mpmath as mp\n",
    "\n",
    "mp.dps = 200"
   ]
  },
  {
   "cell_type": "code",
   "execution_count": 119,
   "metadata": {},
   "outputs": [],
   "source": [
    "def norm(a):\n",
    "    return [b / mp.norm(a) for b in a]\n",
    "\n",
    "def reconstruct(mps_in):\n",
    "    state_vec = []\n",
    "\n",
    "    mps = deepcopy(mps_in)\n",
    "\n",
    "    N = len(mps)\n",
    "\n",
    "    # this converts to a different index order\n",
    "    # where the physical index is the outermost index and the bond index is contained\n",
    "    # also puts into canonical form we are used to seeing\n",
    "    mps[-1] = np.swapaxes(mps[-1], 0, 1)\n",
    "    for i in range(N-1):\n",
    "        mps[i][0] = np.swapaxes(mps[i][0], 0, 1)\n",
    "\n",
    "    for i in range(2**N):\n",
    "        ind = [int(bit) for bit in format(i, '0{}b'.format(N))]\n",
    "        prod = [[row[ind[-1]]] for row in mps[-1]]\n",
    "        for j in range(N-2, -1, -1):\n",
    "            tensors = mps[j]\n",
    "            prod = tensors[1] @ prod\n",
    "            prod = tensors[0][ind[j]] @ prod\n",
    "\n",
    "        state_vec.append(prod[0])\n",
    "\n",
    "    return norm(state_vec)\n",
    "\n",
    "def mps(state_v, chi=1000000):\n",
    "    mps_v = []\n",
    "    N = int(np.log2(len(state_v)))\n",
    "    right = np.reshape(state_v, (2, 2**(N-1)))\n",
    "    for i in range(N):\n",
    "        if i == N-1:\n",
    "            mps_v.append(right)\n",
    "            continue\n",
    "        gamma, S, right = mp.svd(mp.matrix(right), full_matrices=False)\n",
    "        gamma = np.array(gamma.tolist())\n",
    "        right = np.array(right.tolist())\n",
    "        # left and right most gammas are our MPS caps, only have one bond index\n",
    "        if i > 0 and i < N-1:\n",
    "            if chi < len(S) and chi >= 1:\n",
    "                gamma = gamma[:, :chi]\n",
    "                S = S[:chi]\n",
    "                right = right[:chi, :]\n",
    "\n",
    "            gamma = np.reshape(gamma, (int(gamma.shape[0]/2), 2, gamma.shape[1]))\n",
    "\n",
    "        # don't want to reshape this way when there is only 1 column\n",
    "        if right.shape[1] > 2:\n",
    "            right = np.reshape(right, (int(right.shape[0]*2), int(right.shape[1]/2)))\n",
    "\n",
    "        S = norm(S)\n",
    "        lambd = np.diag(S)\n",
    "        mps_v.append([gamma, lambd])\n",
    "    return mps_v\n",
    "\n",
    "def haar_state(N):\n",
    "    # for some reason, when we use complex amplitudes the fidelity caps out at ~0.85\n",
    "    # this is likely not an issue with the code, since manually creating simple complex\n",
    "    # valued states leads to 1.0 fidelity. Instead, something about randomly generating\n",
    "    # more complex states seems to mess the precision\n",
    "    # state = [complex(np.random.normal(), 0) for _ in range(2**N)]\n",
    "    state = [mp.mpf(mp.rand()) for _ in range(2**N)]\n",
    "    return norm(state)"
   ]
  },
  {
   "cell_type": "code",
   "execution_count": 137,
   "metadata": {},
   "outputs": [
    {
     "name": "stdout",
     "output_type": "stream",
     "text": [
      "[mpf('0.03684769306598322'), mpf('0.11060383554455504'), mpf('0.12587992515612484'), mpf('0.006280644077789937'), mpf('0.057423536317673891'), mpf('0.029273529062218119'), mpf('0.13381976109385763'), mpf('0.015435907953503244'), mpf('0.091932120794942951'), mpf('0.14917471105820354'), mpf('0.03955406694888073'), mpf('0.051934360978476451'), mpf('0.053446425046399473'), mpf('0.13496521444724396'), mpf('0.12148169646596932'), mpf('0.062604250269056444'), mpf('0.12007601141558182'), mpf('0.076997571594487849'), mpf('0.021466230100043789'), mpf('0.10969446671968837'), mpf('0.14885988915991932'), mpf('0.026757474803940924'), mpf('0.14230757074389677'), mpf('0.1166919166850018'), mpf('0.14050785785678374'), mpf('0.04313508369057098'), mpf('0.14479796150852689'), mpf('0.13867688619016397'), mpf('0.094047283115252789'), mpf('0.12710155644254523'), mpf('0.12033077096555972'), mpf('0.084791446827964856'), mpf('0.03049732979371949'), mpf('0.026462616851963851'), mpf('0.081281105066550327'), mpf('0.023944994639820069'), mpf('0.088655764875380211'), mpf('0.065846416870389585'), mpf('0.14076509128552048'), mpf('0.12648005979328428'), mpf('0.073303193414873458'), mpf('0.1326947944965137'), mpf('0.055315104418929485'), mpf('0.0070194494192033991'), mpf('0.050325934811226526'), mpf('0.037139166065886541'), mpf('0.10756054590753'), mpf('0.048645549912231488'), mpf('0.062212741411018138'), mpf('0.053635819223106854'), mpf('0.099734818323645114'), mpf('0.075828181132350458'), mpf('0.14697767767889974'), mpf('0.12739492955081816'), mpf('0.080048000346071804'), mpf('0.013344578500216777'), mpf('0.051370198538392399'), mpf('0.071485815709411718'), mpf('0.0032794507574459651'), mpf('0.080487420134088675'), mpf('0.0017681311212716922'), mpf('0.044486629737673818'), mpf('0.063781657898009325'), mpf('0.090503319239987293'), mpf('0.14681161015087563'), mpf('0.14098923356865206'), mpf('0.10805824284417258'), mpf('0.006811751823557196'), mpf('0.11651612259259445'), mpf('0.11893159554944767'), mpf('0.013118564994366949'), mpf('0.14711599071794443'), mpf('0.026323429227531153'), mpf('0.0019537171647706375'), mpf('0.045313263787368968'), mpf('0.012189542081310801'), mpf('0.12042335595451814'), mpf('0.095741459758053746'), mpf('0.13817484528835627'), mpf('0.040873265677203362'), mpf('0.022016571568156854'), mpf('0.147111463408857'), mpf('0.047174193976626387'), mpf('0.13081071617108422'), mpf('0.074587833522002586'), mpf('0.011954670765170783'), mpf('0.059339105179121034'), mpf('0.027736176653472801'), mpf('0.056045563212275371'), mpf('0.0029979944333688602'), mpf('0.10763391690457311'), mpf('0.040553887244691292'), mpf('0.081457482303653878'), mpf('0.02744355772820186'), mpf('0.0063953472232371284'), mpf('0.0014393139509526354'), mpf('0.1172950792633853'), mpf('0.029753259922655283'), mpf('0.10712812925519404'), mpf('0.097706396779299404'), mpf('0.11337566926104507'), mpf('0.035002562486457812'), mpf('0.063127802420369986'), mpf('0.12258518690538607'), mpf('0.11363806507851335'), mpf('0.074814711543362597'), mpf('0.018593888072413488'), mpf('0.026201668618202344'), mpf('0.082702256453011894'), mpf('0.03733254512302752'), mpf('0.0083435397578650802'), mpf('0.02534474748188165'), mpf('0.14521098232172236'), mpf('0.11391610721379145'), mpf('0.028721343405720919'), mpf('0.042162177611780489'), mpf('0.14559167930299227'), mpf('0.0018105341786647602'), mpf('0.06372163353996789'), mpf('0.14464135250312102'), mpf('0.11224965005078844'), mpf('0.087348189361229359'), mpf('0.083206022523265713'), mpf('0.13199335599603995'), mpf('0.11359021490891694'), mpf('0.0060482425375844124'), mpf('0.12111913171178068'), mpf('0.042278076705905852')]\n"
     ]
    },
    {
     "data": {
      "text/plain": [
       "mpf('0.99999999999999978')"
      ]
     },
     "execution_count": 137,
     "metadata": {},
     "output_type": "execute_result"
    }
   ],
   "source": [
    "st = haar_state(7)\n",
    "print(st)\n",
    "a = mps(st)\n",
    "# print(a)\n",
    "b = reconstruct(a)\n",
    "np.dot(np.abs(st), np.abs(b))"
   ]
  }
 ],
 "metadata": {
  "kernelspec": {
   "display_name": "physics14n-pset5",
   "language": "python",
   "name": "python3"
  },
  "language_info": {
   "codemirror_mode": {
    "name": "ipython",
    "version": 3
   },
   "file_extension": ".py",
   "mimetype": "text/x-python",
   "name": "python",
   "nbconvert_exporter": "python",
   "pygments_lexer": "ipython3",
   "version": "3.9.17"
  },
  "orig_nbformat": 4
 },
 "nbformat": 4,
 "nbformat_minor": 2
}
