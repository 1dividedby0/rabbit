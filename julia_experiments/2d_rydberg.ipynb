{
 "cells": [
  {
   "cell_type": "code",
   "execution_count": 1,
   "metadata": {},
   "outputs": [
    {
     "name": "stdout",
     "output_type": "stream",
     "text": [
      "1\n"
     ]
    },
    {
     "data": {
      "text/plain": [
       "14"
      ]
     },
     "metadata": {},
     "output_type": "display_data"
    }
   ],
   "source": [
    "using ITensors\n",
    "using Plots\n",
    "using KrylovKit\n",
    "using LinearAlgebra\n",
    "using MKL\n",
    "using ProgressMeter\n",
    "using .Threads\n",
    "println(Threads.nthreads())\n",
    "\n",
    "plotlyjs()\n",
    "ITensors.disable_warn_order()"
   ]
  },
  {
   "cell_type": "code",
   "execution_count": 2,
   "metadata": {},
   "outputs": [],
   "source": [
    "mutable struct RydbergObserver <: AbstractObserver\n",
    "    energy_tol::Float64\n",
    "    last_energy::Float64\n",
    "\n",
    "    RydbergObserver(energy_tol=0.0) = new(energy_tol, 1000.0)\n",
    "end\n",
    "\n",
    "function ITensors.checkdone!(o::RydbergObserver; kwargs...)\n",
    "    sw = kwargs[:sweep]\n",
    "    energy = kwargs[:energy]\n",
    "    if abs(energy - o.last_energy) / abs(energy) < o.energy_tol\n",
    "        # early stopping\n",
    "        return true\n",
    "    end\n",
    "    o.last_energy = energy\n",
    "    return false\n",
    "end\n",
    "\n",
    "function ITensors.measure!(o::RydbergObserver; kwargs...)\n",
    "    energy = kwargs[:energy]\n",
    "    sweep = kwargs[:sweep]\n",
    "    bond = kwargs[:bond]\n",
    "    outputlevel = kwargs[:outputlevel]\n",
    "\n",
    "    # if outputlevel > 0\n",
    "    #     println(\"Sweep $sweep at bond $bond, the energy is $energy\")\n",
    "    # end\n",
    "end"
   ]
  },
  {
   "cell_type": "code",
   "execution_count": 35,
   "metadata": {},
   "outputs": [
    {
     "data": {
      "text/plain": [
       "display_mpo_elements (generic function with 1 method)"
      ]
     },
     "metadata": {},
     "output_type": "display_data"
    }
   ],
   "source": [
    "# assume k = 6\n",
    "function blockade_radius(rabi_f)\n",
    "    C6 = 1 # Interaction Coefficient for n (quantum number) = 61 (Hz)\n",
    "    return (C6 / rabi_f)^(1 / 6)\n",
    "end\n",
    "\n",
    "function kagome_distance(i, j, k, l)\n",
    "    if k == i\n",
    "        return j - l\n",
    "    end\n",
    "\n",
    "    if (k - i) % 2 == 0\n",
    "        return sqrt((j+1 - l)^2 + (sqrt(3) * (i - k) / 2)^2)\n",
    "    end\n",
    "    \n",
    "    return sqrt((j - l + 0.5)^2 + ((i - k) * sqrt(3)/2)^2)\n",
    "end\n",
    "\n",
    "function interaction_strength(i, j, k, l)\n",
    "    # C6 = 2 * pi * 275 * 10^9 # Interaction Coefficient for n (quantum number) = 61 (Hz)\n",
    "    C6 = 1\n",
    "    lattice_spacing = 1 # lattice constant (micrometers)\n",
    "    return C6 / (kagome_distance(i, j, k, l) * lattice_spacing)^6\n",
    "end\n",
    "\n",
    "function interactions(site, i, j, N)\n",
    "    os = OpSum()\n",
    "\n",
    "    for k = 1:i\n",
    "        for l = 1:j-1\n",
    "            if k%2 == 1 && l%2 == 0\n",
    "                continue\n",
    "            end\n",
    "            site2 = (k-1)*N + l\n",
    "            os += interaction_strength(i, j, k, l), \"ProjUp\", site2, \"ProjUp\", site \n",
    "        end\n",
    "    end\n",
    "    return os\n",
    "end\n",
    "\n",
    "function rydberg(N, rabi_f, delt)\n",
    "    os = OpSum()\n",
    "\n",
    "    for i = 1:N\n",
    "        for j = 1:N\n",
    "            if i%2 == 0 && j%2 == 0\n",
    "                continue\n",
    "            end\n",
    "            site = (i-1)*N + j\n",
    "            os += 0.5 * rabi_f, \"X\", site\n",
    "            os -= delt, \"ProjUp\", site\n",
    "            os += interactions(site, i, j, N)\n",
    "        end\n",
    "    end\n",
    "\n",
    "    # println(combiner(sites)*contract(H))\n",
    "    # @show H\n",
    "    # display_mpo_elements(os)\n",
    "\n",
    "    # println(os)\n",
    "\n",
    "    return os\n",
    "end\n",
    "\n",
    "function display_mpo_elements(H)\n",
    "    N = length(H)\n",
    "    for n = 1:N\n",
    "        println(\"Tensor $n of the MPO:\")\n",
    "        println(H[n])\n",
    "        println(\"------\")\n",
    "    end\n",
    "end"
   ]
  },
  {
   "cell_type": "code",
   "execution_count": 29,
   "metadata": {},
   "outputs": [
    {
     "data": {
      "text/plain": [
       "dominant_superposition (generic function with 1 method)"
      ]
     },
     "metadata": {},
     "output_type": "display_data"
    }
   ],
   "source": [
    "function bipartite_entropy(psi)\n",
    "    b = Int(ceil(length(psi) / 2))\n",
    "    # from ITensor docs\n",
    "    ITensors.orthogonalize!(psi, b)\n",
    "    U, S, V = svd(psi[b], (linkind(psi, b - 1), siteind(psi, b)))\n",
    "    SvN = 0.0\n",
    "    for n in 1:dim(S, 1)\n",
    "        p = S[n, n]^2\n",
    "        SvN -= p * log2(p)\n",
    "    end\n",
    "    return SvN\n",
    "end\n",
    "\n",
    "# code inspired from https://itensor.github.io/ITensors.jl/dev/tutorials/MPSTimeEvolution.html\n",
    "function itebd(N, psi0, sites, rabi_f, delt)\n",
    "    cutoff = 1E-20\n",
    "    tau = 0.1\n",
    "    time = 50\n",
    "\n",
    "    gates = ITensor[]\n",
    "    for j in 1:(N-2)\n",
    "        s1 = sites[j]\n",
    "        s2 = sites[j+1]\n",
    "        s3 = sites[j+2]\n",
    "\n",
    "        onsite_h = -1/2 * rabi_f * op(\"x\", s1) - delt * op(\"n\", s1)\n",
    "        nn_h = interaction_strength(j, j+1) * op(\"n\", s1) * op(\"n\", s2)\n",
    "        nnn_h = interaction_strength(j, j+2) * op(\"n\", s1) * op(\"n\", s3)\n",
    "\n",
    "        onsite_Gj = exp(-tau / 2 * onsite_h)\n",
    "        nn_Gj = exp(-tau / 2 * nn_h)\n",
    "        nnn_Gj = exp(-tau / 2 * nnn_h)\n",
    "\n",
    "        push!(gates, nnn_Gj)\n",
    "        push!(gates, nn_Gj)\n",
    "        push!(gates, onsite_Gj)\n",
    "    end\n",
    "    for j in N-2:1\n",
    "        s1 = sites[j]\n",
    "        s2 = sites[j+1]\n",
    "        s3 = sites[j+2]\n",
    "\n",
    "        onsite_h = -1/2 * rabi_f * op(\"x\", s1) - delt * op(\"n\", s1)\n",
    "        nn_h = interaction_strength(j, j+1) * op(\"n\", s1) * op(\"n\", s2)\n",
    "        nnn_h = interaction_strength(j, j+2) * op(\"n\", s1) * op(\"n\", s3)\n",
    "\n",
    "        onsite_Gj = exp(-tau / 2 * onsite_h)\n",
    "        nn_Gj = exp(-tau / 2 * nn_h)\n",
    "        nnn_Gj = exp(-tau / 2 * nnn_h)\n",
    "\n",
    "        push!(gates, nnn_Gj)\n",
    "        push!(gates, nn_Gj)\n",
    "        push!(gates, onsite_Gj)\n",
    "    end\n",
    "    # append!(gates, reverse(gates))\n",
    "    \n",
    "    psi = psi0\n",
    "\n",
    "    normalize!(psi)\n",
    "\n",
    "    for t in 0.0:tau:time\n",
    "        t ≈ time && break\n",
    "        psi = apply(gates, psi; cutoff)\n",
    "        normalize!(psi)\n",
    "    end\n",
    "\n",
    "    return psi\n",
    "end\n",
    "\n",
    "function ground_state(N, psi0, sites, rabi_f, delt, ed_, krylov_dim=3)\n",
    "    H = MPO(rydberg(N, rabi_f, delt), sites)\n",
    "\n",
    "    nsweeps = 300\n",
    "    # maxdim = [100, 100, 200, 200, 400]\n",
    "    maxdim = [40, 40, 60]\n",
    "    # maxdim = fill(100,nsweeps)\n",
    "    cutoff = fill(1E-8, nsweeps)\n",
    "\n",
    "    etol = 1E-8\n",
    "\n",
    "    obs = RydbergObserver(etol)\n",
    "    if ed_ == true\n",
    "        energy, psi = ed(H, psi0, sites, krylov_dim)\n",
    "    end\n",
    "    if ed_ == false\n",
    "        energy, psi = dmrg(H, psi0; nsweeps=nsweeps, maxdim=maxdim, cutoff=cutoff, observer=obs, outputlevel=0, println=false)\n",
    "    end\n",
    "    # eigen(H, )\n",
    "    # H2 = inner(H,psi,H,psi)\n",
    "    # E = inner(psi',H,psi)\n",
    "    # var = H2-E^2\n",
    "    # println(E)\n",
    "    # println(var)\n",
    "    # println()\n",
    "\n",
    "    # combin = combiner(sites)\n",
    "    # println(combin * contract(psi))\n",
    "    # println(energy)\n",
    "    entropy = bipartite_entropy(psi)\n",
    "    return entropy, energy, psi\n",
    "end\n",
    "\n",
    "function first_excitation(N, psi0, ground_psi, sites, rabi_f, delt)\n",
    "    H = MPO(rydberg(N, rabi_f, delt), sites)\n",
    "\n",
    "    nsweeps = 300\n",
    "    maxdim = [40, 40, 60]\n",
    "    cutoff = fill(1E-10, nsweeps)\n",
    "    weight = 1E6\n",
    "\n",
    "    etol = 1E-10\n",
    "\n",
    "    obs = RydbergObserver(etol)\n",
    "    energy, excited_psi = dmrg(H, [ground_psi], psi0; nsweeps, maxdim, cutoff, weight=weight, observer=obs, outputlevel=0, println=false)\n",
    "\n",
    "    # println(inner(excited_psi, ground_psi))\n",
    "    return energy, excited_psi\n",
    "end\n",
    "\n",
    "function energy_gap(N, psi0, sites, rabi_f, delt)\n",
    "    H = MPO(rydberg(N, rabi_f, delt), sites)\n",
    "\n",
    "    nsweeps = 200\n",
    "    maxdim = fill(100,nsweeps)\n",
    "    cutoff = fill(1E-10, nsweeps)\n",
    "    weight = 1E6\n",
    "\n",
    "    etol = 1E-10\n",
    "\n",
    "    _, ground_energy, ground_psi = ground_state(N, psi0, sites, rabi_f, delt, false)\n",
    "\n",
    "    obs = RydbergObserver(etol)\n",
    "    energy, excited_psi = dmrg(H, [ground_psi], psi0; nsweeps, maxdim, cutoff, weight=weight, observer=obs, outputlevel=0, println=false)\n",
    "    gap = energy - ground_energy\n",
    "    # println(inner(excited_psi, ground_psi))\n",
    "    return gap\n",
    "end\n",
    "\n",
    "function avg_rydberg(psi)\n",
    "    avgr = 0\n",
    "    for i = 1:length(psi)\n",
    "        avgr += expect(psi, \"ProjUp\"; sites=i)\n",
    "    end\n",
    "    return avgr / length(psi)\n",
    "end\n",
    "\n",
    "function measure_mps(psi)\n",
    "    measurement = []\n",
    "    for i = 1:length(psi)\n",
    "        push!(measurement, round(expect(psi, \"ProjUp\"; sites=i), digits=2))\n",
    "    end\n",
    "    return measurement\n",
    "end\n",
    "\n",
    "function ed(H, psi0, sites, krylov_dim)\n",
    "    vals, vecs, info = @time eigsolve(\n",
    "        contract(H), contract(psi0), 1, :SR; ishermitian=true, tol=1e-20, krylovdim=krylov_dim, eager=true\n",
    "    )\n",
    "    return vals[1], MPS(vecs[1], sites)\n",
    "end\n",
    "\n",
    "function dominant_superposition(psi)\n",
    "\n",
    "end"
   ]
  },
  {
   "cell_type": "code",
   "execution_count": 33,
   "metadata": {},
   "outputs": [
    {
     "data": {
      "text/plain": [
       "stand (generic function with 3 methods)"
      ]
     },
     "metadata": {},
     "output_type": "display_data"
    }
   ],
   "source": [
    "function stand(N, resolution, coarse, separation_assumption, start, stop, stop2, psi0, sites, ed_=true, krylov_dim=3)\n",
    "    V_nn = 2 * pi * 60 * (10^6)\n",
    "    V_nn = 1\n",
    "    C6 = 1 # Interaction Coefficient for n (quantum number) = 61 (Hz)\n",
    "    a = 1\n",
    "\n",
    "    freq = range(start, stop=stop, length=resolution)\n",
    "\n",
    "    Y = freq\n",
    "\n",
    "    X = collect(range(0.0, stop=stop2, length=resolution))\n",
    "\n",
    "    entropies = zeros(Float64, resolution, resolution)\n",
    "    numbers = zeros(Float64, resolution, resolution)\n",
    "    energy_gaps = zeros(Float64, resolution, resolution)\n",
    "    energies = zeros(Float64, resolution, resolution)\n",
    "    second = zeros(Float64, resolution, resolution)\n",
    "    hover_text = [[\"\" for i in 1:resolution] for j in 1:resolution]\n",
    "\n",
    "    simulation_data = Any[]\n",
    "\n",
    "    # p = Progress(resolution^2, 1)\n",
    "\n",
    "    for i = 1:length(Y)\n",
    "        for j = 1:length(X)\n",
    "            # println((i - 1) * length(X) + j)\n",
    "            if ((i - 1) * length(X) + j) % 5 == 0\n",
    "                println((i - 1) * length(X) + j)\n",
    "            end\n",
    "            \n",
    "            rabi_freq = C6/((a * Y[i])^6)\n",
    "            delta = X[j] * rabi_freq\n",
    "\n",
    "            entropy, energy, gs = ground_state(N, psi0, sites, rabi_freq, delta, ed_, krylov_dim)\n",
    "            energy2, s2 = first_excitation(N, psi0, gs, sites, rabi_freq, delta)\n",
    "            # push!(simulation_data, (rabi_freq, delta, entropy, energy, gs))\n",
    "\n",
    "            entropies[i, j] = entropy\n",
    "            numbers[i, j] = avg_rydberg(gs)\n",
    "            energy_gaps[i, j] = log(max(1E-11, energy2 - energy))\n",
    "            # energies[i, j] = energy\n",
    "\n",
    "            mps_state = measure_mps(gs)\n",
    "            hover_text[i][j] = join(string.(mps_state), \", \")\n",
    "            # next!(p)\n",
    "        end\n",
    "    end\n",
    "\n",
    "    # compute QPT points\n",
    "    # for j = 1:resolution\n",
    "    #     for i = 2:resolution-1\n",
    "    #         # b = (energies[i,j+1]-energies[i,j]) / (X[j+1] - X[j])\n",
    "    #         # a = (energies[i, j] - energies[i, j-1]) / (X[j] - X[j-1])\n",
    "    #         # hessian = abs((b - a) / (X[j+1] - X[j-1])) # not hessian\n",
    "    #         # finite_diff = (2*energies[i, j] - 5*energies[i-1, j] + 4*energies[i-2, j] - energies[i-3, j]) / (Y[i] - Y[i-1])^2\n",
    "    #         finite_diff = energies[i+1, j] - 2 * energies[i, j] + energies[i-1, j]\n",
    "    #         finite_diff = finite_diff / (Y[i] - Y[i-1])^2\n",
    "    #         second[i, j] = abs(finite_diff)\n",
    "    #     end\n",
    "    # end\n",
    "\n",
    "    deltaX = (maximum(X) - minimum(X)) / length(X)\n",
    "    deltaY = (maximum(Y) - minimum(Y)) / length(Y)\n",
    "\n",
    "    # Adjust the plot limits to ensure cells are not cut off\n",
    "    adjusted_xlims = (minimum(X) - 0.5 * deltaX, maximum(X) + 0.5 * deltaX)\n",
    "    adjusted_ylims = (minimum(Y) - 0.5 * deltaY, maximum(Y) + 0.5 * deltaY)\n",
    "\n",
    "    return simulation_data, heatmap(\n",
    "        X, Y, energy_gaps,\n",
    "        # xlims=adjusted_xlims,\n",
    "        # ylims=adjusted_ylims,\n",
    "        hover=hover_text,\n",
    "        color=:viridis,\n",
    "        aspect_ratio=:auto,\n",
    "        xlabel=\"Δ/Ω\",\n",
    "        ylabel=\"R_b/a\",\n",
    "        colorbar_title=\"Gap ln(ε)\"\n",
    "    ), heatmap(\n",
    "        X, Y, entropies,\n",
    "        # xlims=adjusted_xlims,\n",
    "        # ylims=adjusted_ylims,\n",
    "        hover=hover_text,\n",
    "        color=:viridis,\n",
    "        aspect_ratio=:auto,\n",
    "        xlabel=\"Δ/Ω\",\n",
    "        ylabel=\"R_b/a\",\n",
    "        colorbar_title=\"Bipartite Entropy\"\n",
    "    ), heatmap(\n",
    "        X, Y, numbers,\n",
    "        # xlims=adjusted_xlims,\n",
    "        # ylims=adjusted_ylims,\n",
    "        hover=hover_text,\n",
    "        color=:viridis,\n",
    "        aspect_ratio=:auto,\n",
    "        xlabel=\"Δ/Ω\",\n",
    "        ylabel=\"R_b/a\",\n",
    "        colorbar_title=\"Rydberg Fraction\"\n",
    "    )\n",
    "end\n"
   ]
  },
  {
   "cell_type": "code",
   "execution_count": 36,
   "metadata": {},
   "outputs": [
    {
     "name": "stdout",
     "output_type": "stream",
     "text": [
      "5\n"
     ]
    },
    {
     "name": "stdout",
     "output_type": "stream",
     "text": [
      "10\n"
     ]
    },
    {
     "name": "stdout",
     "output_type": "stream",
     "text": [
      "15\n"
     ]
    },
    {
     "name": "stdout",
     "output_type": "stream",
     "text": [
      "20\n"
     ]
    },
    {
     "name": "stdout",
     "output_type": "stream",
     "text": [
      "25\n"
     ]
    },
    {
     "name": "stdout",
     "output_type": "stream",
     "text": [
      "30\n"
     ]
    },
    {
     "name": "stdout",
     "output_type": "stream",
     "text": [
      "35\n"
     ]
    },
    {
     "name": "stdout",
     "output_type": "stream",
     "text": [
      "40\n"
     ]
    },
    {
     "name": "stdout",
     "output_type": "stream",
     "text": [
      "45\n"
     ]
    },
    {
     "name": "stdout",
     "output_type": "stream",
     "text": [
      "50\n"
     ]
    },
    {
     "name": "stdout",
     "output_type": "stream",
     "text": [
      "55\n"
     ]
    },
    {
     "name": "stdout",
     "output_type": "stream",
     "text": [
      "60\n"
     ]
    },
    {
     "name": "stdout",
     "output_type": "stream",
     "text": [
      "65\n"
     ]
    },
    {
     "name": "stdout",
     "output_type": "stream",
     "text": [
      "70\n"
     ]
    },
    {
     "name": "stdout",
     "output_type": "stream",
     "text": [
      "75\n"
     ]
    },
    {
     "name": "stdout",
     "output_type": "stream",
     "text": [
      "80\n"
     ]
    },
    {
     "name": "stdout",
     "output_type": "stream",
     "text": [
      "85\n"
     ]
    },
    {
     "name": "stdout",
     "output_type": "stream",
     "text": [
      "90\n"
     ]
    },
    {
     "name": "stdout",
     "output_type": "stream",
     "text": [
      "95\n"
     ]
    },
    {
     "name": "stdout",
     "output_type": "stream",
     "text": [
      "100\n"
     ]
    },
    {
     "name": "stdout",
     "output_type": "stream",
     "text": [
      "105\n"
     ]
    },
    {
     "name": "stdout",
     "output_type": "stream",
     "text": [
      "110\n"
     ]
    },
    {
     "name": "stdout",
     "output_type": "stream",
     "text": [
      "115\n"
     ]
    },
    {
     "name": "stdout",
     "output_type": "stream",
     "text": [
      "120\n"
     ]
    },
    {
     "name": "stdout",
     "output_type": "stream",
     "text": [
      "125\n"
     ]
    },
    {
     "name": "stdout",
     "output_type": "stream",
     "text": [
      "130\n"
     ]
    },
    {
     "name": "stdout",
     "output_type": "stream",
     "text": [
      "135\n"
     ]
    },
    {
     "name": "stdout",
     "output_type": "stream",
     "text": [
      "140\n"
     ]
    },
    {
     "name": "stdout",
     "output_type": "stream",
     "text": [
      "145\n"
     ]
    },
    {
     "name": "stdout",
     "output_type": "stream",
     "text": [
      "150\n"
     ]
    },
    {
     "name": "stdout",
     "output_type": "stream",
     "text": [
      "155\n"
     ]
    },
    {
     "name": "stdout",
     "output_type": "stream",
     "text": [
      "160\n"
     ]
    },
    {
     "name": "stdout",
     "output_type": "stream",
     "text": [
      "165\n"
     ]
    },
    {
     "name": "stdout",
     "output_type": "stream",
     "text": [
      "170\n"
     ]
    },
    {
     "name": "stdout",
     "output_type": "stream",
     "text": [
      "175\n"
     ]
    },
    {
     "name": "stdout",
     "output_type": "stream",
     "text": [
      "180\n"
     ]
    },
    {
     "name": "stdout",
     "output_type": "stream",
     "text": [
      "185\n"
     ]
    },
    {
     "name": "stdout",
     "output_type": "stream",
     "text": [
      "190\n"
     ]
    },
    {
     "name": "stdout",
     "output_type": "stream",
     "text": [
      "195\n"
     ]
    },
    {
     "name": "stdout",
     "output_type": "stream",
     "text": [
      "200\n"
     ]
    },
    {
     "name": "stdout",
     "output_type": "stream",
     "text": [
      "205\n"
     ]
    },
    {
     "name": "stdout",
     "output_type": "stream",
     "text": [
      "210\n"
     ]
    },
    {
     "name": "stdout",
     "output_type": "stream",
     "text": [
      "215\n"
     ]
    },
    {
     "name": "stdout",
     "output_type": "stream",
     "text": [
      "220\n"
     ]
    },
    {
     "name": "stdout",
     "output_type": "stream",
     "text": [
      "225\n"
     ]
    },
    {
     "name": "stdout",
     "output_type": "stream",
     "text": [
      "230\n"
     ]
    },
    {
     "name": "stdout",
     "output_type": "stream",
     "text": [
      "235\n"
     ]
    },
    {
     "name": "stdout",
     "output_type": "stream",
     "text": [
      "240\n"
     ]
    },
    {
     "name": "stdout",
     "output_type": "stream",
     "text": [
      "245\n"
     ]
    },
    {
     "name": "stdout",
     "output_type": "stream",
     "text": [
      "250\n"
     ]
    },
    {
     "name": "stdout",
     "output_type": "stream",
     "text": [
      "255\n"
     ]
    },
    {
     "name": "stdout",
     "output_type": "stream",
     "text": [
      "260\n"
     ]
    },
    {
     "name": "stdout",
     "output_type": "stream",
     "text": [
      "265\n"
     ]
    },
    {
     "name": "stdout",
     "output_type": "stream",
     "text": [
      "270\n"
     ]
    },
    {
     "name": "stdout",
     "output_type": "stream",
     "text": [
      "275\n"
     ]
    },
    {
     "name": "stdout",
     "output_type": "stream",
     "text": [
      "280\n"
     ]
    },
    {
     "name": "stdout",
     "output_type": "stream",
     "text": [
      "285\n"
     ]
    },
    {
     "name": "stdout",
     "output_type": "stream",
     "text": [
      "290\n"
     ]
    },
    {
     "name": "stdout",
     "output_type": "stream",
     "text": [
      "295\n"
     ]
    },
    {
     "name": "stdout",
     "output_type": "stream",
     "text": [
      "300\n"
     ]
    },
    {
     "name": "stdout",
     "output_type": "stream",
     "text": [
      "305\n"
     ]
    },
    {
     "name": "stdout",
     "output_type": "stream",
     "text": [
      "310\n"
     ]
    },
    {
     "name": "stdout",
     "output_type": "stream",
     "text": [
      "315\n"
     ]
    },
    {
     "name": "stdout",
     "output_type": "stream",
     "text": [
      "320\n"
     ]
    },
    {
     "name": "stdout",
     "output_type": "stream",
     "text": [
      "325\n"
     ]
    },
    {
     "name": "stdout",
     "output_type": "stream",
     "text": [
      "330\n"
     ]
    },
    {
     "name": "stdout",
     "output_type": "stream",
     "text": [
      "335\n"
     ]
    },
    {
     "name": "stdout",
     "output_type": "stream",
     "text": [
      "340\n"
     ]
    },
    {
     "name": "stdout",
     "output_type": "stream",
     "text": [
      "345\n"
     ]
    },
    {
     "name": "stdout",
     "output_type": "stream",
     "text": [
      "350\n"
     ]
    },
    {
     "name": "stdout",
     "output_type": "stream",
     "text": [
      "355\n"
     ]
    },
    {
     "name": "stdout",
     "output_type": "stream",
     "text": [
      "360\n"
     ]
    },
    {
     "name": "stdout",
     "output_type": "stream",
     "text": [
      "365\n"
     ]
    },
    {
     "name": "stdout",
     "output_type": "stream",
     "text": [
      "370\n"
     ]
    },
    {
     "name": "stdout",
     "output_type": "stream",
     "text": [
      "375\n"
     ]
    },
    {
     "name": "stdout",
     "output_type": "stream",
     "text": [
      "380\n"
     ]
    },
    {
     "name": "stdout",
     "output_type": "stream",
     "text": [
      "385\n"
     ]
    },
    {
     "name": "stdout",
     "output_type": "stream",
     "text": [
      "390\n"
     ]
    },
    {
     "name": "stdout",
     "output_type": "stream",
     "text": [
      "395\n"
     ]
    },
    {
     "name": "stdout",
     "output_type": "stream",
     "text": [
      "400\n"
     ]
    },
    {
     "name": "stdout",
     "output_type": "stream",
     "text": [
      "405\n"
     ]
    },
    {
     "name": "stdout",
     "output_type": "stream",
     "text": [
      "410\n"
     ]
    },
    {
     "name": "stdout",
     "output_type": "stream",
     "text": [
      "415\n"
     ]
    },
    {
     "name": "stdout",
     "output_type": "stream",
     "text": [
      "420\n"
     ]
    },
    {
     "name": "stdout",
     "output_type": "stream",
     "text": [
      "425\n"
     ]
    },
    {
     "name": "stdout",
     "output_type": "stream",
     "text": [
      "430\n"
     ]
    },
    {
     "name": "stdout",
     "output_type": "stream",
     "text": [
      "435\n"
     ]
    },
    {
     "name": "stdout",
     "output_type": "stream",
     "text": [
      "440\n"
     ]
    },
    {
     "name": "stdout",
     "output_type": "stream",
     "text": [
      "445\n"
     ]
    },
    {
     "name": "stdout",
     "output_type": "stream",
     "text": [
      "450\n"
     ]
    },
    {
     "name": "stdout",
     "output_type": "stream",
     "text": [
      "455\n"
     ]
    },
    {
     "name": "stdout",
     "output_type": "stream",
     "text": [
      "460\n"
     ]
    },
    {
     "name": "stdout",
     "output_type": "stream",
     "text": [
      "465\n"
     ]
    },
    {
     "name": "stdout",
     "output_type": "stream",
     "text": [
      "470\n"
     ]
    },
    {
     "name": "stdout",
     "output_type": "stream",
     "text": [
      "475\n"
     ]
    },
    {
     "name": "stdout",
     "output_type": "stream",
     "text": [
      "480\n"
     ]
    },
    {
     "name": "stdout",
     "output_type": "stream",
     "text": [
      "485\n"
     ]
    },
    {
     "name": "stdout",
     "output_type": "stream",
     "text": [
      "490\n"
     ]
    },
    {
     "name": "stdout",
     "output_type": "stream",
     "text": [
      "495\n"
     ]
    },
    {
     "name": "stdout",
     "output_type": "stream",
     "text": [
      "500\n"
     ]
    },
    {
     "name": "stdout",
     "output_type": "stream",
     "text": [
      "505\n"
     ]
    },
    {
     "name": "stdout",
     "output_type": "stream",
     "text": [
      "510\n"
     ]
    },
    {
     "name": "stdout",
     "output_type": "stream",
     "text": [
      "515\n"
     ]
    },
    {
     "name": "stdout",
     "output_type": "stream",
     "text": [
      "520\n"
     ]
    },
    {
     "name": "stdout",
     "output_type": "stream",
     "text": [
      "525\n"
     ]
    },
    {
     "name": "stdout",
     "output_type": "stream",
     "text": [
      "530\n"
     ]
    },
    {
     "name": "stdout",
     "output_type": "stream",
     "text": [
      "535\n"
     ]
    },
    {
     "name": "stdout",
     "output_type": "stream",
     "text": [
      "540\n"
     ]
    },
    {
     "name": "stdout",
     "output_type": "stream",
     "text": [
      "545\n"
     ]
    },
    {
     "name": "stdout",
     "output_type": "stream",
     "text": [
      "550\n"
     ]
    },
    {
     "name": "stdout",
     "output_type": "stream",
     "text": [
      "555\n"
     ]
    },
    {
     "name": "stdout",
     "output_type": "stream",
     "text": [
      "560\n"
     ]
    },
    {
     "name": "stdout",
     "output_type": "stream",
     "text": [
      "565\n"
     ]
    },
    {
     "name": "stdout",
     "output_type": "stream",
     "text": [
      "570\n"
     ]
    },
    {
     "name": "stdout",
     "output_type": "stream",
     "text": [
      "575\n"
     ]
    },
    {
     "name": "stdout",
     "output_type": "stream",
     "text": [
      "580\n"
     ]
    },
    {
     "name": "stdout",
     "output_type": "stream",
     "text": [
      "585\n"
     ]
    },
    {
     "name": "stdout",
     "output_type": "stream",
     "text": [
      "590\n"
     ]
    },
    {
     "name": "stdout",
     "output_type": "stream",
     "text": [
      "595\n"
     ]
    },
    {
     "name": "stdout",
     "output_type": "stream",
     "text": [
      "600\n"
     ]
    },
    {
     "name": "stdout",
     "output_type": "stream",
     "text": [
      "605\n"
     ]
    },
    {
     "name": "stdout",
     "output_type": "stream",
     "text": [
      "610\n"
     ]
    },
    {
     "name": "stdout",
     "output_type": "stream",
     "text": [
      "615\n"
     ]
    },
    {
     "name": "stdout",
     "output_type": "stream",
     "text": [
      "620\n"
     ]
    },
    {
     "name": "stdout",
     "output_type": "stream",
     "text": [
      "625\n"
     ]
    },
    {
     "name": "stdout",
     "output_type": "stream",
     "text": [
      "630\n"
     ]
    },
    {
     "name": "stdout",
     "output_type": "stream",
     "text": [
      "635\n"
     ]
    },
    {
     "name": "stdout",
     "output_type": "stream",
     "text": [
      "640\n"
     ]
    },
    {
     "name": "stdout",
     "output_type": "stream",
     "text": [
      "645\n"
     ]
    },
    {
     "name": "stdout",
     "output_type": "stream",
     "text": [
      "650\n"
     ]
    },
    {
     "ename": "DomainError",
     "evalue": "DomainError with -0.0008752676613951182:\nlog will only return a complex result if called with a complex argument. Try log(Complex(x)).",
     "output_type": "error",
     "traceback": [
      "DomainError with -0.0008752676613951182:\n",
      "log will only return a complex result if called with a complex argument. Try log(Complex(x)).\n",
      "\n",
      "Stacktrace:\n",
      " [1] throw_complex_domainerror(f::Symbol, x::Float64)\n",
      "   @ Base.Math ./math.jl:33\n",
      " [2] _log(x::Float64, base::Val{:ℯ}, func::Symbol)\n",
      "   @ Base.Math ./special/log.jl:301\n",
      " [3] log(x::Float64)\n",
      "   @ Base.Math ./special/log.jl:267\n",
      " [4] stand(N::Int64, resolution::Int64, coarse::Int64, separation_assumption::Int64, start::Float64, stop::Int64, stop2::Int64, psi0::MPS, sites::Vector{Index{Int64}}, ed_::Bool, krylov_dim::Int64)\n",
      "   @ Main ~/Desktop/Physics Summer Research/julia_experiments/2d_rydberg.ipynb:40\n",
      " [5] top-level scope\n",
      "   @ ~/Desktop/Physics Summer Research/julia_experiments/2d_rydberg.ipynb:8"
     ]
    }
   ],
   "source": [
    "N=3\n",
    "resolution=30\n",
    "coarse_resolution=4\n",
    "separation_assumption=2\n",
    "sites = siteinds(\"Qubit\", N^2)\n",
    "psi0 = MPS(sites, [\"Dn\" for i = 1:N^2])\n",
    "krylov_dim = 20\n",
    "simulation_data1, plot1, plot2, plot3 = stand(N, resolution, coarse_resolution, separation_assumption, 0.01, 3, 4, psi0, sites, false, krylov_dim)\n",
    "plot(plot1)"
   ]
  },
  {
   "cell_type": "code",
   "execution_count": null,
   "metadata": {},
   "outputs": [],
   "source": []
  }
 ],
 "metadata": {
  "kernelspec": {
   "display_name": "Julia 1.9.2",
   "language": "julia",
   "name": "julia-1.9"
  },
  "language_info": {
   "file_extension": ".jl",
   "mimetype": "application/julia",
   "name": "julia",
   "version": "1.9.2"
  },
  "orig_nbformat": 4
 },
 "nbformat": 4,
 "nbformat_minor": 2
}
